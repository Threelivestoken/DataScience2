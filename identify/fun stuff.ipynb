{
 "cells": [
  {
   "cell_type": "code",
   "execution_count": 41,
   "id": "8260f345",
   "metadata": {},
   "outputs": [],
   "source": [
    "alpha=[\"a\",\"b\",\"c\",\"d\",\"e\",\"f\",\"g\",\"h\",\"i\",\"j\",\"k\",\"l\",\"m\",\"n\",\"o\",\"p\",\"q\",\"r\",\"s\",\"t\",\"u\",\"v\",\"w\",\"x\",\"y\",\"z\"]\n",
    "def eudist(d):\n",
    "    eulist={}\n",
    "    for taco in range(d):\n",
    "        eulist[str(alpha[taco])]=[]\n",
    "        for burrito in range(2):\n",
    "            question=\"What is your value of \"+str(alpha[taco])+str(burrito+1)+\": \"\n",
    "            eulist[str(alpha[taco])].append(input(question))\n",
    "    for taco in eulist:\n",
    "        x=1"
   ]
  },
  {
   "cell_type": "code",
   "execution_count": 39,
   "id": "7bf9bbbf",
   "metadata": {},
   "outputs": [
    {
     "name": "stdout",
     "output_type": "stream",
     "text": [
      "What is your value of a1: 1\n",
      "What is your value of a2: 2\n",
      "What is your value of b1: 1\n",
      "What is your value of b2: 2\n"
     ]
    }
   ],
   "source": [
    "eudist(2,2)"
   ]
  },
  {
   "cell_type": "code",
   "execution_count": 28,
   "id": "9aeb9935",
   "metadata": {},
   "outputs": [
    {
     "data": {
      "text/plain": [
       "'z'"
      ]
     },
     "execution_count": 28,
     "metadata": {},
     "output_type": "execute_result"
    }
   ],
   "source": [
    "alpha[0]"
   ]
  },
  {
   "cell_type": "code",
   "execution_count": null,
   "id": "b50f5962",
   "metadata": {},
   "outputs": [],
   "source": []
  }
 ],
 "metadata": {
  "kernelspec": {
   "display_name": "Python 3 (ipykernel)",
   "language": "python",
   "name": "python3"
  },
  "language_info": {
   "codemirror_mode": {
    "name": "ipython",
    "version": 3
   },
   "file_extension": ".py",
   "mimetype": "text/x-python",
   "name": "python",
   "nbconvert_exporter": "python",
   "pygments_lexer": "ipython3",
   "version": "3.9.13"
  }
 },
 "nbformat": 4,
 "nbformat_minor": 5
}
