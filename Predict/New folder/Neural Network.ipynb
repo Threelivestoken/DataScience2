{
 "cells": [
  {
   "cell_type": "code",
   "execution_count": 6,
   "id": "c7b2b267",
   "metadata": {},
   "outputs": [],
   "source": [
    "import seaborn as sns\n",
    "import pandas as pd\n",
    "import matplotlib.pyplot as plt\n",
    "\n",
    "#Maybe?\n",
    "import numpy as np"
   ]
  },
  {
   "cell_type": "code",
   "execution_count": 3,
   "id": "36ae482e",
   "metadata": {},
   "outputs": [],
   "source": [
    "#1 e^(a+bi)\n",
    "\n",
    "def e(x,y):\n",
    "    e=2.7166666666+1/(1*2*3*4*5*6)\n",
    "    a=(e**a)*cosb\n",
    "    b=(e**a)*sinb"
   ]
  },
  {
   "cell_type": "code",
   "execution_count": 21,
   "id": "6561f328",
   "metadata": {},
   "outputs": [
    {
     "data": {
      "text/plain": [
       "Text(0, 0.5, 'y')"
      ]
     },
     "execution_count": 21,
     "metadata": {},
     "output_type": "execute_result"
    },
    {
     "data": {
      "image/png": "[encoded data removed]",
      "text/plain": [
       "<Figure size 640x480 with 1 Axes>"
      ]
     },
     "metadata": {},
     "output_type": "display_data"
    }
   ],
   "source": [
    "c=1.4141414141414141414141414141414141414141414141414141414141414141414141414141414141414141414141414#float(input(\"Give me a c value: \"))\n",
    "r=10000#int(input(\"How many iterations: \"))\n",
    "b=100#int(input(\"How many bins: \"))\n",
    "data={\"x\":[0.0],\n",
    "      \"z\":[0.0]}\n",
    "for taco in range(r):\n",
    "    data[\"z\"].append(data[\"z\"][len(data[\"z\"])-1]**2-c)\n",
    "    data[\"x\"].append(data[\"x\"][len(data[\"x\"])-1]+1)\n",
    "data[\"y\"]=sorted(data[\"z\"])\n",
    "#convert to dataframe\n",
    "df = pd.DataFrame(data)\n",
    "#Make a scatterplot\n",
    "#sns.scatterplot(data=df,x=\"x\",y=\"y\")\n",
    "#Make a histplot\n",
    "sns.histplot(data=df,x='x',y='y', bins=b)\n",
    "plt.xlabel(\"x\")\n",
    "plt.ylabel(\"y\")"
   ]
  },
  {
   "cell_type": "code",
   "execution_count": null,
   "id": "3c1050f0",
   "metadata": {},
   "outputs": [],
   "source": [
    "act(10,1)"
   ]
  },
  {
   "cell_type": "code",
   "execution_count": 19,
   "id": "e08081c8",
   "metadata": {},
   "outputs": [
    {
     "ename": "OverflowError",
     "evalue": "(34, 'Result too large')",
     "output_type": "error",
     "traceback": [
      "\u001b[1;31m---------------------------------------------------------------------------\u001b[0m",
      "\u001b[1;31mOverflowError\u001b[0m                             Traceback (most recent call last)",
      "\u001b[1;32m~\\AppData\\Local\\Temp\\ipykernel_23044\\504288790.py\u001b[0m in \u001b[0;36m<module>\u001b[1;34m\u001b[0m\n\u001b[0;32m      9\u001b[0m     \u001b[0mdata1\u001b[0m\u001b[1;33m[\u001b[0m\u001b[1;34m\"y\"\u001b[0m\u001b[1;33m]\u001b[0m\u001b[1;33m[\u001b[0m\u001b[0mtaco\u001b[0m\u001b[1;33m-\u001b[0m\u001b[1;36m1\u001b[0m\u001b[1;33m]\u001b[0m\u001b[1;33m=\u001b[0m\u001b[1;36m0.0\u001b[0m\u001b[1;33m\u001b[0m\u001b[1;33m\u001b[0m\u001b[0m\n\u001b[0;32m     10\u001b[0m     \u001b[1;32mfor\u001b[0m \u001b[0mburrito\u001b[0m \u001b[1;32min\u001b[0m \u001b[0mrange\u001b[0m\u001b[1;33m(\u001b[0m\u001b[0mv\u001b[0m\u001b[1;33m)\u001b[0m\u001b[1;33m:\u001b[0m\u001b[1;33m\u001b[0m\u001b[1;33m\u001b[0m\u001b[0m\n\u001b[1;32m---> 11\u001b[1;33m         \u001b[0mdata1\u001b[0m\u001b[1;33m[\u001b[0m\u001b[1;34m\"y\"\u001b[0m\u001b[1;33m]\u001b[0m\u001b[1;33m[\u001b[0m\u001b[0mtaco\u001b[0m\u001b[1;33m-\u001b[0m\u001b[1;36m1\u001b[0m\u001b[1;33m]\u001b[0m\u001b[1;33m=\u001b[0m\u001b[1;33m(\u001b[0m\u001b[0mdata1\u001b[0m\u001b[1;33m[\u001b[0m\u001b[1;34m\"y\"\u001b[0m\u001b[1;33m]\u001b[0m\u001b[1;33m[\u001b[0m\u001b[0mtaco\u001b[0m\u001b[1;33m-\u001b[0m\u001b[1;36m1\u001b[0m\u001b[1;33m]\u001b[0m\u001b[1;33m)\u001b[0m\u001b[1;33m**\u001b[0m\u001b[1;36m2\u001b[0m\u001b[1;33m-\u001b[0m\u001b[0mdata1\u001b[0m\u001b[1;33m[\u001b[0m\u001b[1;34m\"x\"\u001b[0m\u001b[1;33m]\u001b[0m\u001b[1;33m[\u001b[0m\u001b[0mtaco\u001b[0m\u001b[1;33m-\u001b[0m\u001b[1;36m1\u001b[0m\u001b[1;33m]\u001b[0m\u001b[1;33m\u001b[0m\u001b[1;33m\u001b[0m\u001b[0m\n\u001b[0m\u001b[0;32m     12\u001b[0m \u001b[1;33m\u001b[0m\u001b[0m\n\u001b[0;32m     13\u001b[0m \u001b[1;33m\u001b[0m\u001b[0m\n",
      "\u001b[1;31mOverflowError\u001b[0m: (34, 'Result too large')"
     ]
    }
   ],
   "source": [
    "r=10\n",
    "v=16\n",
    "data1={\"x\":[],\n",
    "      \"y\":[]}\n",
    "for taco in range(r):\n",
    "    data1[\"x\"].append((taco-1)*2.25/(r-1)-.25)\n",
    "    data1[\"y\"].append(0.0)\n",
    "for taco in range(r):\n",
    "    data1[\"y\"][taco-1]=0.0\n",
    "    for burrito in range(v):\n",
    "        data1[\"y\"][taco-1]=(data1[\"y\"][taco-1])**2-data1[\"x\"][taco-1]\n",
    "\n",
    "\n",
    "#convert to dataframe\n",
    "df1 = pd.DataFrame(data1)\n",
    "#Make a scatterplot\n",
    "sns.scatterplot(data=df1,x=\"x\",y=\"y\")\n"
   ]
  },
  {
   "cell_type": "code",
   "execution_count": null,
   "id": "b71a9096",
   "metadata": {},
   "outputs": [],
   "source": []
  },
  {
   "cell_type": "code",
   "execution_count": null,
   "id": "4a1cc20b",
   "metadata": {},
   "outputs": [],
   "source": []
  }
 ],
 "metadata": {
  "kernelspec": {
   "display_name": "Python 3 (ipykernel)",
   "language": "python",
   "name": "python3"
  },
  "language_info": {
   "codemirror_mode": {
    "name": "ipython",
    "version": 3
   },
   "file_extension": ".py",
   "mimetype": "text/x-python",
   "name": "python",
   "nbconvert_exporter": "python",
   "pygments_lexer": "ipython3",
   "version": "3.9.13"
  }
 },
 "nbformat": 4,
 "nbformat_minor": 5
}
