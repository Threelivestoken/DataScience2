{
 "cells": [
  {
   "cell_type": "code",
   "execution_count": 65,
   "id": "c7b2b267",
   "metadata": {},
   "outputs": [],
   "source": [
    "import seaborn as sns\n",
    "import pandas as pd\n",
    "import matplotlib.pyplot as plt\n",
    "\n",
    "#Maybe?\n",
    "import numpy as np"
   ]
  },
  {
   "cell_type": "code",
   "execution_count": null,
   "id": "36ae482e",
   "metadata": {},
   "outputs": [],
   "source": [
    "#1 e^(a+bi)\n",
    "\n",
    "def e(x,y):\n",
    "    e=2.7166666666+1/(1*2*3*4*5*6)\n",
    "    a=(e**a)*cosb\n",
    "    b=(e**a)*sinb"
   ]
  },
  {
   "cell_type": "code",
   "execution_count": null,
   "id": "6561f328",
   "metadata": {},
   "outputs": [],
   "source": [
    "c=1.9#float(input(\"Give me a c value: \"))\n",
    "r=int(2**8)#int(input(\"How many iterations: \"))\n",
    "b=400#int(input(\"How many bins: \"))\n",
    "data={\"x\":[0.0],\n",
    "      \"z\":[0.0]}\n",
    "for taco in range(r):\n",
    "    data[\"z\"].append(data[\"z\"][len(data[\"z\"])-1]**2-c)\n",
    "    data[\"x\"].append(data[\"x\"][len(data[\"x\"])-1]+1)\n",
    "data[\"y\"]=sorted(data[\"z\"])\n",
    "#convert to dataframe\n",
    "df = pd.DataFrame(data)\n",
    "#Make a scatterplot\n",
    "#sns.scatterplot(data=df,x=\"x\",y=\"y\")\n",
    "#Make a histplot\n",
    "sns.histplot(data=df,x='x',y='z', bins=b)\n",
    "plt.xlabel(\"x\")\n",
    "plt.ylabel(\"y\")"
   ]
  },
  {
   "cell_type": "code",
   "execution_count": null,
   "id": "8932c8ed",
   "metadata": {},
   "outputs": [],
   "source": [
    "c=100#float(input(\"How many points(integer): \"))\n",
    "i=100#float(input(\"How many iterations(integer): \"))\n",
    "\n",
    "data2={\"x\":[-.25],\"y\":[]}\n",
    "#Make x values:\n",
    "for taco in range(c-1):\n",
    "    data2[\"x\"].append(((taco)*2.25/c-.25)\n",
    "\n",
    "#data2[\"x\"]=data2[\"x\"]\n",
    "\n",
    "\n",
    "#put x values in range:\n",
    "\n",
    "for burrito in range(int(c)):\n",
    "    for taco in range(i):\n",
    "        k=k**2-data2[\"x\"][burrito-1]\n",
    "       \n",
    "    data2[\"y\"].append(k)\n",
    "data2[\"y\"]=sorted(data2[\"y\"])\n",
    "#Make it into a dataframe\n",
    "df2 = pd.DataFrame(data2)"
   ]
  },
  {
   "cell_type": "code",
   "execution_count": null,
   "id": "d3f7d2b2",
   "metadata": {},
   "outputs": [],
   "source": [
    "sns.scatterplot(data=df2,x=\"x\",y=\"y\")\n",
    "#sns.histplot(data=df2, x=\"x\",y='y', bins=100)\n",
    "#plt.xlabel(\"x\")\n",
    "#plt.ylabel(\"y\")\n"
   ]
  },
  {
   "cell_type": "code",
   "execution_count": null,
   "id": "67871371",
   "metadata": {},
   "outputs": [],
   "source": []
  },
  {
   "cell_type": "code",
   "execution_count": null,
   "id": "3c1050f0",
   "metadata": {},
   "outputs": [],
   "source": [
    "act(10,1)"
   ]
  },
  {
   "cell_type": "code",
   "execution_count": null,
   "id": "e08081c8",
   "metadata": {},
   "outputs": [],
   "source": [
    "r=10\n",
    "v=16\n",
    "data1={\"x\":[],\n",
    "      \"y\":[]}\n",
    "for taco in range(r):\n",
    "    data1[\"x\"].append((taco-1)*2.25/(r-1)-.25)\n",
    "    data1[\"y\"].append(0.0)\n",
    "for taco in range(r):\n",
    "    data1[\"y\"][taco-1]=0.0\n",
    "    for burrito in range(v):\n",
    "        data1[\"y\"][taco-1]=(data1[\"y\"][taco-1])**2-data1[\"x\"][taco-1]\n",
    "\n",
    "\n",
    "#convert to dataframe\n",
    "df1 = pd.DataFrame(data1)\n",
    "#Make a scatterplot\n",
    "sns.scatterplot(data=df1,x=\"x\",y=\"y\")\n"
   ]
  },
  {
   "cell_type": "code",
   "execution_count": null,
   "id": "b71a9096",
   "metadata": {},
   "outputs": [],
   "source": []
  },
  {
   "cell_type": "code",
   "execution_count": 154,
   "id": "4a1cc20b",
   "metadata": {},
   "outputs": [
    {
     "name": "stderr",
     "output_type": "stream",
     "text": [
      "C:\\Users\\ethan\\anaconda3\\Lib\\site-packages\\seaborn\\_oldcore.py:1119: FutureWarning: use_inf_as_na option is deprecated and will be removed in a future version. Convert inf values to NaN before operating instead.\n",
      "  with pd.option_context('mode.use_inf_as_na', True):\n",
      "C:\\Users\\ethan\\anaconda3\\Lib\\site-packages\\seaborn\\_oldcore.py:1119: FutureWarning: use_inf_as_na option is deprecated and will be removed in a future version. Convert inf values to NaN before operating instead.\n",
      "  with pd.option_context('mode.use_inf_as_na', True):\n"
     ]
    },
    {
     "data": {
      "text/plain": [
       "<Axes: xlabel='x', ylabel='y'>"
      ]
     },
     "execution_count": 154,
     "metadata": {},
     "output_type": "execute_result"
    },
    {
     "data": {
      "image/png": "[encoded data removed]",
      "text/plain": [
       "<Figure size 640x480 with 1 Axes>"
      ]
     },
     "metadata": {},
     "output_type": "display_data"
    }
   ],
   "source": [
    "#----------------\n",
    "z=[0.0]\n",
    "c=1.5#z is crazy at 1.5436890126920764\n",
    "r=100000\n",
    "temp=0.0\n",
    "for taco in range(r-1):\n",
    "    temp=temp**2-c\n",
    "    z.append(temp)\n",
    "y=sorted(z)\n",
    "frame = pd.DataFrame({\"x\":range(0,r), \"y\": y})\n",
    "\n",
    "sns.lineplot(data=frame,x=\"x\",y=\"y\")\n",
    "#sns.histplot(data=frame,x=\"x\",y=\"y\", bins=1000)\n",
    "#sns.histplot(data=frame,x=\"x\",y=\"y\", bins=100)"
   ]
  },
  {
   "cell_type": "code",
   "execution_count": null,
   "id": "de4b3b1d-9736-490e-8be4-05fa8ace428e",
   "metadata": {},
   "outputs": [],
   "source": []
  },
  {
   "cell_type": "code",
   "execution_count": 94,
   "id": "4a27e7d8-f4e6-4795-9356-b78ee7d1b1b8",
   "metadata": {},
   "outputs": [
    {
     "name": "stderr",
     "output_type": "stream",
     "text": [
      "C:\\Users\\ethan\\anaconda3\\Lib\\site-packages\\seaborn\\_oldcore.py:1119: FutureWarning: use_inf_as_na option is deprecated and will be removed in a future version. Convert inf values to NaN before operating instead.\n",
      "  with pd.option_context('mode.use_inf_as_na', True):\n",
      "C:\\Users\\ethan\\anaconda3\\Lib\\site-packages\\seaborn\\_oldcore.py:1119: FutureWarning: use_inf_as_na option is deprecated and will be removed in a future version. Convert inf values to NaN before operating instead.\n",
      "  with pd.option_context('mode.use_inf_as_na', True):\n"
     ]
    },
    {
     "data": {
      "text/plain": [
       "<Axes: xlabel='x', ylabel='y'>"
      ]
     },
     "execution_count": 94,
     "metadata": {},
     "output_type": "execute_result"
    },
    {
     "data": {
      "image/png": "[encoded data removed]",
      "text/plain": [
       "<Figure size 640x480 with 1 Axes>"
      ]
     },
     "metadata": {},
     "output_type": "display_data"
    }
   ],
   "source": [
    "#ComplexNumbers----------------\n",
    "za=[0.0]\n",
    "zb=[0.0]\n",
    "\n",
    "a=1.155184627#z is crazy at 1.5436890126920764\n",
    "b=0.276248679\n",
    "\n",
    "\n",
    "\n",
    "\n",
    "r=10000\n",
    "re=0\n",
    "im=0\n",
    "for taco in range(r-1):\n",
    "    re=re**2-im**2-a\n",
    "    im=2*re*im-b\n",
    "    za.append(re)\n",
    "    zb.append(im)\n",
    "frame = pd.DataFrame({\"x\":za, \"y\": zb})\n",
    "\n",
    "#sns.scatterplot(data=frame,x=\"x\",y=\"y\")\n",
    "sns.histplot(data=frame,x=\"x\",y=\"y\", bins=100)"
   ]
  },
  {
   "cell_type": "code",
   "execution_count": 40,
   "id": "f6762c04",
   "metadata": {},
   "outputs": [
    {
     "name": "stdout",
     "output_type": "stream",
     "text": [
      "1.5436890126920764\n"
     ]
    }
   ],
   "source": [
    "x=1.5436890126920764\n",
    "for taco in range(1000):\n",
    "    x=((2*x-x**2)**.5+x)**.5\n",
    "\n",
    "print(x)"
   ]
  },
  {
   "cell_type": "code",
   "execution_count": 59,
   "id": "17a84084",
   "metadata": {},
   "outputs": [
    {
     "data": {
      "text/plain": [
       "-0.0024867925032098595"
      ]
     },
     "execution_count": 59,
     "metadata": {},
     "output_type": "execute_result"
    }
   ],
   "source": []
  },
  {
   "cell_type": "code",
   "execution_count": null,
   "id": "951b2781-8a04-4aa8-89ed-7c44980d1e80",
   "metadata": {},
   "outputs": [],
   "source": []
  }
 ],
 "metadata": {
  "kernelspec": {
   "display_name": "Python 3 (ipykernel)",
   "language": "python",
   "name": "python3"
  },
  "language_info": {
   "codemirror_mode": {
    "name": "ipython",
    "version": 3
   },
   "file_extension": ".py",
   "mimetype": "text/x-python",
   "name": "python",
   "nbconvert_exporter": "python",
   "pygments_lexer": "ipython3",
   "version": "3.11.7"
  }
 },
 "nbformat": 4,
 "nbformat_minor": 5
}
