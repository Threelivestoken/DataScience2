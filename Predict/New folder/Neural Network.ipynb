{
 "cells": [
  {
   "cell_type": "code",
   "execution_count": 1,
   "id": "c7b2b267",
   "metadata": {},
   "outputs": [],
   "source": [
    "import seaborn as sns\n",
    "import pandas as pd\n",
    "import matplotlib.pyplot as plt\n",
    "\n",
    "#Maybe?\n",
    "import numpy as np"
   ]
  },
  {
   "cell_type": "code",
   "execution_count": null,
   "id": "36ae482e",
   "metadata": {},
   "outputs": [],
   "source": [
    "#1 e^(a+bi)\n",
    "\n",
    "def e(x,y):\n",
    "    e=2.7166666666+1/(1*2*3*4*5*6)\n",
    "    a=(e**a)*cosb\n",
    "    b=(e**a)*sinb"
   ]
  },
  {
   "cell_type": "code",
   "execution_count": null,
   "id": "6561f328",
   "metadata": {},
   "outputs": [],
   "source": [
    "c=1.9#float(input(\"Give me a c value: \"))\n",
    "r=int(5000000/7)#int(input(\"How many iterations: \"))\n",
    "b=400#int(input(\"How many bins: \"))\n",
    "data={\"x\":[0.0],\n",
    "      \"z\":[0.0]}\n",
    "for taco in range(r):\n",
    "    data[\"z\"].append(data[\"z\"][len(data[\"z\"])-1]**2-c)\n",
    "    data[\"x\"].append(data[\"x\"][len(data[\"x\"])-1]+1)\n",
    "data[\"y\"]=sorted(data[\"z\"])\n",
    "#convert to dataframe\n",
    "df = pd.DataFrame(data)\n",
    "#Make a scatterplot\n",
    "#sns.scatterplot(data=df,x=\"x\",y=\"y\")\n",
    "#Make a histplot\n",
    "sns.histplot(data=df,x='x',y='y', bins=b)\n",
    "plt.xlabel(\"x\")\n",
    "plt.ylabel(\"y\")"
   ]
  },
  {
   "cell_type": "code",
   "execution_count": 15,
   "id": "8932c8ed",
   "metadata": {},
   "outputs": [
    {
     "ename": "SyntaxError",
     "evalue": "invalid syntax (3700619503.py, line 15)",
     "output_type": "error",
     "traceback": [
      "\u001b[1;36m  File \u001b[1;32m\"C:\\Users\\ejackson11\\AppData\\Local\\Temp\\ipykernel_22432\\3700619503.py\"\u001b[1;36m, line \u001b[1;32m15\u001b[0m\n\u001b[1;33m    k=0.0\u001b[0m\n\u001b[1;37m    ^\u001b[0m\n\u001b[1;31mSyntaxError\u001b[0m\u001b[1;31m:\u001b[0m invalid syntax\n"
     ]
    }
   ],
   "source": [
    "c=100#float(input(\"How many points(integer): \"))\n",
    "i=100#float(input(\"How many iterations(integer): \"))\n",
    "\n",
    "data2={\"x\":[-.25],\"y\":[]}\n",
    "#Make x values:\n",
    "for taco in range(c):\n",
    "    data2[\"x\"].append(((float(taco))*2.25/c-.25)\n",
    "\n",
    "#data2[\"x\"]=data2[\"x\"]\n",
    "\n",
    "\n",
    "#put x values in range:\n",
    "\n",
    "for c1 in range(c+1)\n",
    "    k=0.0\n",
    "    for taco in range(i):\n",
    "        k=k**2-data2[\"x\"][c1-1]\n",
    "       \n",
    "    data2[\"y\"].append(k)\n",
    "data2[\"y\"]=sorted(data2[\"y\"])\n",
    "#Make it into a dataframe\n",
    "df2 = pd.DataFrame(data2)"
   ]
  },
  {
   "cell_type": "code",
   "execution_count": 10,
   "id": "d3f7d2b2",
   "metadata": {},
   "outputs": [
    {
     "data": {
      "text/plain": [
       "<AxesSubplot:xlabel='x', ylabel='y'>"
      ]
     },
     "execution_count": 10,
     "metadata": {},
     "output_type": "execute_result"
    },
    {
     "data": {
      "image/png": "[encoded data removed]",
      "text/plain": [
       "<Figure size 640x480 with 1 Axes>"
      ]
     },
     "metadata": {},
     "output_type": "display_data"
    }
   ],
   "source": [
    "sns.scatterplot(data=df2,x=\"x\",y=\"y\")\n",
    "#sns.histplot(data=df2, x=\"x\",y='y', bins=100)\n",
    "#plt.xlabel(\"x\")\n",
    "#plt.ylabel(\"y\")\n"
   ]
  },
  {
   "cell_type": "code",
   "execution_count": null,
   "id": "a44f5943",
   "metadata": {},
   "outputs": [],
   "source": []
  },
  {
   "cell_type": "code",
   "execution_count": null,
   "id": "3c1050f0",
   "metadata": {},
   "outputs": [],
   "source": [
    "act(10,1)"
   ]
  },
  {
   "cell_type": "code",
   "execution_count": null,
   "id": "e08081c8",
   "metadata": {},
   "outputs": [],
   "source": [
    "r=10\n",
    "v=16\n",
    "data1={\"x\":[],\n",
    "      \"y\":[]}\n",
    "for taco in range(r):\n",
    "    data1[\"x\"].append((taco-1)*2.25/(r-1)-.25)\n",
    "    data1[\"y\"].append(0.0)\n",
    "for taco in range(r):\n",
    "    data1[\"y\"][taco-1]=0.0\n",
    "    for burrito in range(v):\n",
    "        data1[\"y\"][taco-1]=(data1[\"y\"][taco-1])**2-data1[\"x\"][taco-1]\n",
    "\n",
    "\n",
    "#convert to dataframe\n",
    "df1 = pd.DataFrame(data1)\n",
    "#Make a scatterplot\n",
    "sns.scatterplot(data=df1,x=\"x\",y=\"y\")\n"
   ]
  },
  {
   "cell_type": "code",
   "execution_count": null,
   "id": "b71a9096",
   "metadata": {},
   "outputs": [],
   "source": []
  },
  {
   "cell_type": "code",
   "execution_count": null,
   "id": "4a1cc20b",
   "metadata": {},
   "outputs": [],
   "source": []
  }
 ],
 "metadata": {
  "kernelspec": {
   "display_name": "Python 3 (ipykernel)",
   "language": "python",
   "name": "python3"
  },
  "language_info": {
   "codemirror_mode": {
    "name": "ipython",
    "version": 3
   },
   "file_extension": ".py",
   "mimetype": "text/x-python",
   "name": "python",
   "nbconvert_exporter": "python",
   "pygments_lexer": "ipython3",
   "version": "3.9.13"
  }
 },
 "nbformat": 4,
 "nbformat_minor": 5
}
