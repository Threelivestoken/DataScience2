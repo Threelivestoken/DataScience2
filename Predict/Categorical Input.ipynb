{
 "cells": [
  {
   "cell_type": "code",
   "execution_count": 1,
   "id": "3e8748cb",
   "metadata": {},
   "outputs": [],
   "source": [
    "#1 --- imports\n",
    "import pandas as pd\n",
    "import numpy as np\n",
    "import seaborn as sns"
   ]
  },
  {
   "cell_type": "code",
   "execution_count": 8,
   "id": "364aa45e",
   "metadata": {},
   "outputs": [
    {
     "data": {
      "text/html": [
       "<div>\n",
       "<style scoped>\n",
       "    .dataframe tbody tr th:only-of-type {\n",
       "        vertical-align: middle;\n",
       "    }\n",
       "\n",
       "    .dataframe tbody tr th {\n",
       "        vertical-align: top;\n",
       "    }\n",
       "\n",
       "    .dataframe thead th {\n",
       "        text-align: right;\n",
       "    }\n",
       "</style>\n",
       "<table border=\"1\" class=\"dataframe\">\n",
       "  <thead>\n",
       "    <tr style=\"text-align: right;\">\n",
       "      <th></th>\n",
       "      <th>tweet_text</th>\n",
       "      <th>cyberbullying_type</th>\n",
       "    </tr>\n",
       "  </thead>\n",
       "  <tbody>\n",
       "    <tr>\n",
       "      <th>0</th>\n",
       "      <td>In other words #katandandre, your food was cra...</td>\n",
       "      <td>not_cyberbullying</td>\n",
       "    </tr>\n",
       "    <tr>\n",
       "      <th>1</th>\n",
       "      <td>Why is #aussietv so white? #MKR #theblock #ImA...</td>\n",
       "      <td>not_cyberbullying</td>\n",
       "    </tr>\n",
       "    <tr>\n",
       "      <th>2</th>\n",
       "      <td>@XochitlSuckkks a classy whore? Or more red ve...</td>\n",
       "      <td>not_cyberbullying</td>\n",
       "    </tr>\n",
       "    <tr>\n",
       "      <th>3</th>\n",
       "      <td>@Jason_Gio meh. :P  thanks for the heads up, b...</td>\n",
       "      <td>not_cyberbullying</td>\n",
       "    </tr>\n",
       "    <tr>\n",
       "      <th>4</th>\n",
       "      <td>@RudhoeEnglish This is an ISIS account pretend...</td>\n",
       "      <td>not_cyberbullying</td>\n",
       "    </tr>\n",
       "  </tbody>\n",
       "</table>\n",
       "</div>"
      ],
      "text/plain": [
       "                                          tweet_text cyberbullying_type\n",
       "0  In other words #katandandre, your food was cra...  not_cyberbullying\n",
       "1  Why is #aussietv so white? #MKR #theblock #ImA...  not_cyberbullying\n",
       "2  @XochitlSuckkks a classy whore? Or more red ve...  not_cyberbullying\n",
       "3  @Jason_Gio meh. :P  thanks for the heads up, b...  not_cyberbullying\n",
       "4  @RudhoeEnglish This is an ISIS account pretend...  not_cyberbullying"
      ]
     },
     "execution_count": 8,
     "metadata": {},
     "output_type": "execute_result"
    }
   ],
   "source": [
    "#2 --- make dataframe\n",
    "df = pd.read_csv(\"cyberbullying.csv\")\n",
    "df.head()"
   ]
  },
  {
   "cell_type": "code",
   "execution_count": 9,
   "id": "8674e76b",
   "metadata": {},
   "outputs": [],
   "source": [
    "#3 --- make column with words\n",
    "\n",
    "# Assuming your DataFrame is named df\n",
    "# Replace 'your_dataframe' with your actual DataFrame name\n",
    "\n",
    "df['words'] = df['tweet_text'].apply(lambda x: x.split())"
   ]
  },
  {
   "cell_type": "code",
   "execution_count": 10,
   "id": "193d9749",
   "metadata": {},
   "outputs": [],
   "source": [
    "#4 --- makes column with individual characters\n",
    "df['characters'] = df['tweet_text'].apply(list)"
   ]
  },
  {
   "cell_type": "code",
   "execution_count": 11,
   "id": "76243ccd",
   "metadata": {},
   "outputs": [],
   "source": [
    "#5 --- Most common letter\n",
    "\n",
    "def get_top_characters(text):\n",
    "    # Removing spaces from the text\n",
    "    text = text.replace(\" \", \"\")\n",
    "    \n",
    "    # Counting the occurrences of each character\n",
    "    char_counts = {}\n",
    "    for char in text:\n",
    "        char_counts[char] = char_counts.get(char, 0) + 1\n",
    "    \n",
    "    # Sorting the characters by count in descending order\n",
    "    sorted_chars = sorted(char_counts, key=char_counts.get, reverse=True)\n",
    "\n",
    "    # Getting the 5 most common characters\n",
    "    top_characters = sorted_chars[:5]\n",
    "\n",
    "    # If there are less than 5 unique characters, padding with spaces\n",
    "    top_characters += [' '] * (5 - len(top_characters))\n",
    "\n",
    "    return top_characters\n",
    "\n",
    "# Applying the function to each row of the 'tweet_text' column\n",
    "df['top_letters'] = df['tweet_text'].apply(lambda x: get_top_characters(x))"
   ]
  },
  {
   "cell_type": "code",
   "execution_count": null,
   "id": "0c9ee55d",
   "metadata": {},
   "outputs": [],
   "source": [
    "for taco in range(len(df['top_letters'])):\n",
    "    print(df['top_letters'][taco][0],\n",
    "          df['top_letters'][taco][1],\n",
    "          df['top_letters'][taco][2],\n",
    "          df['top_letters'][taco][3],\n",
    "          df['top_letters'][taco][4],df['cyberbullying_type'][taco])"
   ]
  },
  {
   "cell_type": "code",
   "execution_count": null,
   "id": "fb188a6c",
   "metadata": {},
   "outputs": [],
   "source": [
    "df['cyberbullying_type'].unique()"
   ]
  },
  {
   "cell_type": "code",
   "execution_count": null,
   "id": "779a4316",
   "metadata": {},
   "outputs": [],
   "source": []
  },
  {
   "cell_type": "code",
   "execution_count": null,
   "id": "35d8a3df",
   "metadata": {},
   "outputs": [],
   "source": [
    "#-----------------------------------------------------------------------------------"
   ]
  },
  {
   "cell_type": "code",
   "execution_count": null,
   "id": "e524e412",
   "metadata": {},
   "outputs": [],
   "source": [
    "# Function to calculate Euclidean distance between two points\n",
    "euclidean_distance = lambda p1, p2: np.sum(np.array(p1) != np.array(p2))\n",
    "\n",
    "# Function to implement K-nearest neighbor algorithm\n",
    "def k_nearest_neighbors(training_data, test_instance, k):\n",
    "    distances = sorted((euclidean_distance(test_instance, f), t) for f, t in df[['top_letters', 'cyberbullying_type']].values)[:k]\n",
    "\n",
    "    class_votes = {t: sum(1 for _, target in distances if target == t) for _, t in distances}\n",
    "\n",
    "    return max(class_votes, key=class_votes.get)\n",
    "\n"
   ]
  },
  {
   "cell_type": "code",
   "execution_count": null,
   "id": "0a6ca574",
   "metadata": {},
   "outputs": [],
   "source": [
    "# Convert letters to numerical features (binary representation)\n",
    "unique_characters = set(char for sublist in df['top_letters'] for char in sublist)\n",
    "for char in unique_characters:\n",
    "    df[char] = df['top_letters'].apply(lambda x: 1 if char in x else 0)\n",
    "\n",
    "# Sample test instance\n",
    "test_instance = [1 if char in ['a', 'b', 'c', 'd', 'e'] else 0 for char in unique_characters]\n",
    "k=1\n"
   ]
  },
  {
   "cell_type": "code",
   "execution_count": null,
   "id": "e30d05a4",
   "metadata": {},
   "outputs": [],
   "source": [
    "# repeat"
   ]
  },
  {
   "cell_type": "code",
   "execution_count": null,
   "id": "e9b06133",
   "metadata": {},
   "outputs": [],
   "source": [
    "#--------------"
   ]
  },
  {
   "cell_type": "code",
   "execution_count": null,
   "id": "637a22a9",
   "metadata": {},
   "outputs": [],
   "source": [
    "# Function to calculate Euclidean distance between two points\n",
    "euclidean_distance = lambda p1, p2: np.sum(np.array(p1) != np.array(p2))\n",
    "\n",
    "# Function to implement K-nearest neighbor algorithm\n",
    "def k_nearest_neighbors(training_data, test_instance, k):\n",
    "    distances = sorted((euclidean_distance(test_instance, f), t) for f, t in df[['top_letters', 'cyberbullying_type']].values)[:k]\n",
    "\n",
    "    class_votes = {t: sum(1 for _, target in distances if target == t) for _, t in distances}\n",
    "\n",
    "    return max(class_votes, key=class_votes.get)\n",
    "\n",
    "# Convert letters to numerical features (binary representation)\n",
    "unique_characters = set(char for sublist in df['top_letters'] for char in sublist)\n",
    "for char in unique_characters:\n",
    "    df[char] = df['top_letters'].apply(lambda x: 1 if char in x else 0)\n",
    "\n",
    "# Sample test instance\n",
    "test_instance = [1 if char in ['a', 'b', 'c', 'd', 'e'] else 0 for char in unique_characters]\n",
    "k=1\n"
   ]
  },
  {
   "cell_type": "code",
   "execution_count": null,
   "id": "e4d0c5fc",
   "metadata": {},
   "outputs": [],
   "source": []
  },
  {
   "cell_type": "code",
   "execution_count": null,
   "id": "ee690610",
   "metadata": {},
   "outputs": [],
   "source": [
    "df.head()"
   ]
  },
  {
   "cell_type": "code",
   "execution_count": null,
   "id": "551ea7e1",
   "metadata": {},
   "outputs": [],
   "source": [
    "#unique letters\n",
    "uniquewords=df['characters'].explode().unique()\n",
    "uniquewords"
   ]
  },
  {
   "cell_type": "code",
   "execution_count": null,
   "id": "484e061c",
   "metadata": {},
   "outputs": [],
   "source": [
    "len(uniquewords)"
   ]
  },
  {
   "cell_type": "code",
   "execution_count": null,
   "id": "309a7ba1",
   "metadata": {},
   "outputs": [],
   "source": [
    "#\n",
    "for taco in range(len(df['words'])):\n",
    "    for burrito in range(len(df['words'][taco])):\n",
    "        x=1"
   ]
  },
  {
   "cell_type": "code",
   "execution_count": null,
   "id": "d163bc2b",
   "metadata": {},
   "outputs": [],
   "source": [
    "unique_words_df = pd.DataFrame({'word': df['words'].explode().unique()})\n",
    "unique_words_df['word_number'] = range(1, len(unique_words_df) + 1)\n",
    "\n",
    "# Merge the original DataFrame with the unique word DataFrame\n",
    "df = df.merge(unique_words_df, left_on='words', right_on='word', how='left')\n",
    "\n",
    "# Drop unnecessary columns and reset index\n",
    "df = df.drop(['word', 'words'], axis=1).sort_values(by=['tweet_text']).reset_index(drop=True)"
   ]
  },
  {
   "cell_type": "code",
   "execution_count": null,
   "id": "b63c13ef",
   "metadata": {},
   "outputs": [],
   "source": []
  },
  {
   "cell_type": "code",
   "execution_count": null,
   "id": "66b8b0a6",
   "metadata": {},
   "outputs": [],
   "source": []
  },
  {
   "cell_type": "code",
   "execution_count": null,
   "id": "373b886b",
   "metadata": {},
   "outputs": [],
   "source": []
  },
  {
   "cell_type": "code",
   "execution_count": null,
   "id": "94dfbdd1",
   "metadata": {},
   "outputs": [],
   "source": [
    "#-----------------------------------------------------"
   ]
  },
  {
   "cell_type": "code",
   "execution_count": null,
   "id": "f1110bd3",
   "metadata": {},
   "outputs": [],
   "source": [
    "#activation function\n",
    "def activ(a):\n",
    "    e=2.718281828459045235360287471352\n",
    "    if a>18.715:\n",
    "        1\n",
    "    elif a<-18.715:\n",
    "        -1\n",
    "    else:\n",
    "        activ_temp_1=(e**(a)-e**(-a))/(e**(a)+e**(-a))\n",
    "    return activ_temp_1"
   ]
  },
  {
   "cell_type": "code",
   "execution_count": null,
   "id": "6fa8aee4",
   "metadata": {},
   "outputs": [],
   "source": [
    "input(\"what? \")"
   ]
  },
  {
   "cell_type": "code",
   "execution_count": null,
   "id": "6ed97cbc",
   "metadata": {},
   "outputs": [],
   "source": []
  },
  {
   "cell_type": "code",
   "execution_count": null,
   "id": "fcf1ce6b",
   "metadata": {},
   "outputs": [],
   "source": [
    "x=input(\"Gimme a number: \")\n",
    "\n",
    "for taco in range(100):\n",
    "    x=x*x-x\n",
    "    print(x)"
   ]
  },
  {
   "cell_type": "code",
   "execution_count": null,
   "id": "9caf3400",
   "metadata": {},
   "outputs": [],
   "source": []
  }
 ],
 "metadata": {
  "kernelspec": {
   "display_name": "Python 3 (ipykernel)",
   "language": "python",
   "name": "python3"
  },
  "language_info": {
   "codemirror_mode": {
    "name": "ipython",
    "version": 3
   },
   "file_extension": ".py",
   "mimetype": "text/x-python",
   "name": "python",
   "nbconvert_exporter": "python",
   "pygments_lexer": "ipython3",
   "version": "3.9.13"
  }
 },
 "nbformat": 4,
 "nbformat_minor": 5
}
