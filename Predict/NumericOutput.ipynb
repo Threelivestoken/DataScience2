{
 "cells": [
  {
   "cell_type": "code",
   "execution_count": null,
   "id": "c684e75e",
   "metadata": {},
   "outputs": [],
   "source": [
    "#1\n",
    "import pandas as pd\n",
    "import numpy as np\n",
    "import seaborn as sns"
   ]
  },
  {
   "cell_type": "code",
   "execution_count": null,
   "id": "c62d22a9",
   "metadata": {},
   "outputs": [],
   "source": [
    "#2\n",
    "df = pd.read_csv(\"train.csv\")\n",
    "df.head()"
   ]
  },
  {
   "cell_type": "code",
   "execution_count": null,
   "id": "50ae29e8",
   "metadata": {},
   "outputs": [],
   "source": [
    "#3\n",
    "def trainModel(df):\n",
    "    qu=sum(df[\"OverallQual\"])/len(df[\"OverallQual\"])\n",
    "    gr=sum(df[\"GrLivArea\"])/len(df[\"GrLivArea\"])\n",
    "    pr=sum(df[\"SalePrice\"])/len(df[\"SalePrice\"])\n",
    "    qus=sum(df[\"SalePrice\"]/df[\"OverallQual\"])/len(df[\"SalePrice\"]/df[\"OverallQual\"])\n",
    "    grs=sum(df[\"SalePrice\"]/df[\"GrLivArea\"])/len(df[\"SalePrice\"]/df[\"GrLivArea\"])\n",
    "    \n",
    "    \n",
    "    \n",
    "    \n",
    "    \n",
    "    \n",
    "    return qu\n",
    "\n",
    "#4\n",
    "trainModel(df)"
   ]
  },
  {
   "cell_type": "code",
   "execution_count": null,
   "id": "4ed37a53",
   "metadata": {},
   "outputs": [],
   "source": []
  },
  {
   "cell_type": "code",
   "execution_count": null,
   "id": "dd9f5539",
   "metadata": {
    "scrolled": true
   },
   "outputs": [],
   "source": [
    "df.info()\n",
    "#Overallqual\n",
    "#GrLivAre\n",
    "#both fit the data the best"
   ]
  },
  {
   "cell_type": "code",
   "execution_count": null,
   "id": "37c0fcbd",
   "metadata": {},
   "outputs": [],
   "source": [
    "sns.scatterplot(data=df, x=\"OverallQual\", y = \"SalePrice\", hue=\"GrLivArea\")"
   ]
  },
  {
   "cell_type": "code",
   "execution_count": null,
   "id": "f919c8b5",
   "metadata": {},
   "outputs": [],
   "source": [
    "sns.scatterplot(data=df, x=\"GrLivArea\", y = \"SalePrice\", hue=\"OverallQual\")"
   ]
  },
  {
   "cell_type": "code",
   "execution_count": null,
   "id": "dd2482b3",
   "metadata": {},
   "outputs": [],
   "source": [
    "sns.histplot(data=df, x=\"OverallCond\", y = \"SalePrice\", bins=9)"
   ]
  },
  {
   "cell_type": "code",
   "execution_count": null,
   "id": "120022fd",
   "metadata": {},
   "outputs": [],
   "source": [
    "#sorting stuff\n",
    "list=(df[\"YearBuilt\"])\n",
    "list.unique()\n",
    "\n",
    "#list.sort()\n",
    "\n",
    "#for taco in range(len(list.unique())):\n",
    "#    list[taco]=list[1]"
   ]
  },
  {
   "cell_type": "code",
   "execution_count": null,
   "id": "10778482",
   "metadata": {},
   "outputs": [],
   "source": [
    "lost=df[\"YearBuilt\"]\n",
    "p1=\"\"\n",
    "for taco in range(len(lost)):\n",
    "    p1+=(str(lost[taco]))\n",
    "    p1+=\",\""
   ]
  },
  {
   "cell_type": "code",
   "execution_count": null,
   "id": "27c2a019",
   "metadata": {},
   "outputs": [],
   "source": [
    "lost2=df[\"SalePrice\"]\n",
    "p2=\"\"\n",
    "for taco in range(len(lost2)):\n",
    "    p2+=(str(lost2[taco]))\n",
    "    p2+=\",\""
   ]
  },
  {
   "cell_type": "code",
   "execution_count": null,
   "id": "19e9921a",
   "metadata": {},
   "outputs": [],
   "source": [
    "lost3=df[\"YrSold\"]\n",
    "p3=\"\"\n",
    "for taco in range(len(lost3)):\n",
    "    p3+=(str(lost3[taco]))\n",
    "    p3+=\",\"\n",
    "#p3\n",
    "\n",
    "lost3.unique()"
   ]
  },
  {
   "cell_type": "code",
   "execution_count": null,
   "id": "f8286438",
   "metadata": {},
   "outputs": [],
   "source": []
  },
  {
   "cell_type": "code",
   "execution_count": null,
   "id": "22fae8a8",
   "metadata": {},
   "outputs": [],
   "source": [
    "p2\n"
   ]
  },
  {
   "cell_type": "code",
   "execution_count": null,
   "id": "c6746132",
   "metadata": {},
   "outputs": [],
   "source": [
    "#Overallqual\n",
    "#GrLivAre\n",
    "#both fit the data the best"
   ]
  },
  {
   "cell_type": "code",
   "execution_count": null,
   "id": "d0be9835",
   "metadata": {},
   "outputs": [],
   "source": [
    "list"
   ]
  },
  {
   "cell_type": "code",
   "execution_count": null,
   "id": "2fd0a771",
   "metadata": {},
   "outputs": [],
   "source": [
    "#split list into subsections"
   ]
  },
  {
   "cell_type": "code",
   "execution_count": null,
   "id": "466a2845",
   "metadata": {},
   "outputs": [],
   "source": [
    "data['Id'].mean()"
   ]
  },
  {
   "cell_type": "code",
   "execution_count": null,
   "id": "b6ccc0e2",
   "metadata": {},
   "outputs": [],
   "source": [
    "(data['SalesPrice']/data['LotArea']).mean()"
   ]
  },
  {
   "cell_type": "code",
   "execution_count": null,
   "id": "9dd6a102",
   "metadata": {},
   "outputs": [],
   "source": [
    "def trainModel(trainDF):\n",
    "    \n",
    "    \n",
    "    return x\n"
   ]
  }
 ],
 "metadata": {
  "kernelspec": {
   "display_name": "Python 3 (ipykernel)",
   "language": "python",
   "name": "python3"
  },
  "language_info": {
   "codemirror_mode": {
    "name": "ipython",
    "version": 3
   },
   "file_extension": ".py",
   "mimetype": "text/x-python",
   "name": "python",
   "nbconvert_exporter": "python",
   "pygments_lexer": "ipython3",
   "version": "3.9.13"
  }
 },
 "nbformat": 4,
 "nbformat_minor": 5
}
