{
 "cells": [
  {
   "cell_type": "code",
   "execution_count": 10,
   "id": "70efd710",
   "metadata": {},
   "outputs": [],
   "source": [
    "nn={\n",
    "    \"Multiplier\":{\"It1\":[1],\"It\":[],\"C\":[]},\n",
    "    \"biases\":[]}"
   ]
  },
  {
   "cell_type": "code",
   "execution_count": 11,
   "id": "f5a690d6",
   "metadata": {},
   "outputs": [
    {
     "data": {
      "text/plain": [
       "[1]"
      ]
     },
     "execution_count": 11,
     "metadata": {},
     "output_type": "execute_result"
    }
   ],
   "source": [
    "nn[\"Multiplier\"]['A']"
   ]
  },
  {
   "cell_type": "code",
   "execution_count": 12,
   "id": "d4284f99",
   "metadata": {},
   "outputs": [
    {
     "ename": "NameError",
     "evalue": "name 'I1' is not defined",
     "output_type": "error",
     "traceback": [
      "\u001b[1;31m---------------------------------------------------------------------------\u001b[0m",
      "\u001b[1;31mNameError\u001b[0m                                 Traceback (most recent call last)",
      "\u001b[1;32m~\\AppData\\Local\\Temp\\ipykernel_15180\\99584857.py\u001b[0m in \u001b[0;36m<module>\u001b[1;34m\u001b[0m\n\u001b[0;32m      1\u001b[0m runner={\"run\":[\"A\",\"B\"],\n\u001b[1;32m----> 2\u001b[1;33m        \"A\":[I1,I2,M1,M2,B,O]}\n\u001b[0m",
      "\u001b[1;31mNameError\u001b[0m: name 'I1' is not defined"
     ]
    }
   ],
   "source": [
    "\n",
    "runner={\"run\":[\"A\",\"B\"],\n",
    "       \"A\":[I1,I2,M1,M2,B,O]}"
   ]
  },
  {
   "cell_type": "code",
   "execution_count": null,
   "id": "082e07e8",
   "metadata": {},
   "outputs": [],
   "source": [
    "runner={\"Input1\":[],\n",
    "       \"Input2\":[],\n",
    "       \"Multiplier1\":[],\n",
    "       \"Multiplier2\":[],\n",
    "       \"Bias\":[],\n",
    "       \"Output\":[]\n",
    "       }"
   ]
  },
  {
   "cell_type": "code",
   "execution_count": 35,
   "id": "b70a04fd",
   "metadata": {},
   "outputs": [],
   "source": [
    "import random\n",
    "def NewNNcreate(it,lenofin,lenofout,lowM,highM,lowB,highB):\n",
    "    newtempNN={\"info\":{\"Iterations\":it,\"LengthInput\":lenofin,\"LengthOutput\":lenofout,\"LowMultiplier\":lowM,\"HighMultiplier\":highM,\"LowBias\":lowB,\"HighBias\":highB},\n",
    "        \"Input1\":[],\n",
    "        \"Input2\":[],\n",
    "        \"Multiplier1\":[],\n",
    "        \"Multiplier2\":[],\n",
    "        \"Bias\":[],\n",
    "        \"Output\":[]}\n",
    "    for taco in range(it):\n",
    "        newtempNN[\"Multiplier1\"].append((random.random())*(highM-lowM)+lowM)\n",
    "        newtempNN[\"Multiplier2\"].append((random.random())*(highM-lowM)+lowM)\n",
    "        newtempNN[\"Input1\"].append(round(random.random()*(lenofin-1)))\n",
    "        newtempNN[\"Input2\"].append(round(random.random()*(lenofin-1)))\n",
    "        newtempNN[\"Bias\"].append((random.random())*(highB-lowM)+lowB)\n",
    "        newtempNN[\"Output\"].append(round(random.random()*(lenofout-1)))\n",
    "    return newtempNN"
   ]
  },
  {
   "cell_type": "code",
   "execution_count": 36,
   "id": "aa0fe343",
   "metadata": {},
   "outputs": [],
   "source": [
    "NN=NewNNcreate(10,10,10,-1,1,-1,1)\n"
   ]
  },
  {
   "cell_type": "code",
   "execution_count": 37,
   "id": "d5dca0e9",
   "metadata": {},
   "outputs": [
    {
     "data": {
      "text/plain": [
       "{'info': {'Iterations': 10,\n",
       "  'LengthInput': 10,\n",
       "  'LengthOutput': 10,\n",
       "  'LowMultiplier': -1,\n",
       "  'HighMultiplier': 1,\n",
       "  'LowBias': -1,\n",
       "  'HighBias': 1},\n",
       " 'Input1': [6, 7, 8, 2, 5, 2, 1, 5, 6, 1],\n",
       " 'Input2': [5, 3, 8, 4, 4, 3, 5, 2, 6, 3],\n",
       " 'Multiplier1': [0.14557940087607713,\n",
       "  -0.31936100507975795,\n",
       "  -0.4510163367582227,\n",
       "  -0.19339540939895916,\n",
       "  0.04237555391877601,\n",
       "  -0.300805600991382,\n",
       "  0.7229171260647442,\n",
       "  0.999387323859737,\n",
       "  0.313282480549705,\n",
       "  0.3452287096860638],\n",
       " 'Multiplier2': [-0.18567173881829424,\n",
       "  0.1462334319026095,\n",
       "  -0.03079237461144957,\n",
       "  -0.01914666358921302,\n",
       "  -0.44147916439170043,\n",
       "  -0.7033573128533261,\n",
       "  -0.2705889588731447,\n",
       "  -0.5133178809559558,\n",
       "  -0.33138961200806816,\n",
       "  0.461492892384749],\n",
       " 'Bias': [-0.7321064789958625,\n",
       "  -0.9472382608593373,\n",
       "  -0.4869307405489356,\n",
       "  0.34878700964915077,\n",
       "  -0.5909639418602122,\n",
       "  0.21277063952362973,\n",
       "  -0.976292840212508,\n",
       "  0.7427125189229258,\n",
       "  0.5769870623834632,\n",
       "  0.09572109631125358],\n",
       " 'Output': [9, 1, 6, 5, 8, 0, 7, 8, 5, 4]}"
      ]
     },
     "execution_count": 37,
     "metadata": {},
     "output_type": "execute_result"
    }
   ],
   "source": [
    "NN"
   ]
  },
  {
   "cell_type": "code",
   "execution_count": null,
   "id": "3ff623ac",
   "metadata": {},
   "outputs": [],
   "source": [
    "import random\n",
    "num = random.random()\n",
    "print(num)"
   ]
  },
  {
   "cell_type": "code",
   "execution_count": 17,
   "id": "c49bbe84",
   "metadata": {},
   "outputs": [
    {
     "name": "stdout",
     "output_type": "stream",
     "text": [
      "-0.8568342103372305\n",
      "0.674255750120395\n",
      "0.21104526456158634\n",
      "0.21341538376850755\n",
      "1.8751797822354868\n",
      "1.8279219766430561\n",
      "0.5469884872191582\n",
      "1.6661287555161381\n",
      "1.16226668236663\n",
      "1.71502942886289\n",
      "1.7750457141737401\n",
      "-0.08918848227948872\n",
      "0.6882924465733926\n",
      "1.2158806507198352\n",
      "0.4081631850891023\n",
      "0.22501610140849593\n",
      "-0.6626220388995495\n",
      "0.366479258980307\n",
      "-0.24042046394506122\n",
      "-0.6132436089154454\n",
      "-0.4259908608809537\n",
      "1.946619323974157\n",
      "1.2751362399014607\n",
      "1.6816163762140501\n",
      "-0.7905952370626685\n",
      "0.6433559936119806\n",
      "-0.5771910988041052\n",
      "1.5589890274666978\n",
      "1.2022765168238534\n",
      "0.14115880468546727\n",
      "1.93159579405862\n",
      "-0.6066107071518851\n",
      "-0.06218254670078549\n",
      "1.6086962657987751\n",
      "0.8092837078147008\n",
      "0.9326196280741517\n",
      "1.267464073338715\n",
      "-0.34710342023426644\n",
      "0.1855480550149513\n",
      "-0.9792505937170835\n",
      "-0.3098033171233754\n",
      "-0.1547200378524295\n",
      "1.129342466948958\n",
      "1.0619100026662647\n",
      "0.34136865754924584\n",
      "0.7661281658084524\n",
      "1.1914035560923137\n",
      "0.5411432738793553\n",
      "1.0034084036388808\n",
      "0.9916999748773865\n",
      "1.3289503999436407\n",
      "0.1063084652387154\n",
      "-0.6109275607791924\n",
      "0.15090250907226022\n",
      "0.8654371797479081\n",
      "0.800500135465521\n",
      "1.9742898728855893\n",
      "0.9476604597484362\n",
      "0.4161246614765939\n",
      "0.8814793633973816\n",
      "1.0769376783193172\n",
      "-0.5819678111433343\n",
      "0.9123159233835156\n",
      "1.2949773825624629\n",
      "-0.023334473207007322\n",
      "0.6421283723275466\n",
      "-0.5229327390328123\n",
      "-0.17520122619663947\n",
      "1.9927187633627015\n",
      "0.173825541983895\n",
      "-0.9189834748016659\n",
      "1.998493701078655\n",
      "-0.4196035632622529\n",
      "-0.2198302361562231\n",
      "1.9166093018708499\n",
      "0.4222979614335878\n",
      "0.26174350002554125\n",
      "0.27315581452308946\n",
      "1.2417516098546413\n",
      "1.0326898774884752\n",
      "0.05254091312729936\n",
      "1.0516706545379262\n",
      "1.4771072965726928\n",
      "1.978546417064293\n",
      "-0.9643056992514447\n",
      "0.2952107170935845\n",
      "0.9985807830857074\n",
      "0.5183696583061432\n",
      "-0.5556507550475518\n",
      "0.3778046250000875\n",
      "0.3927032047626484\n",
      "0.8031763435432671\n",
      "-0.5746547661479302\n",
      "0.011959528865496782\n",
      "-0.7961119930632177\n",
      "0.5301111159205512\n",
      "0.9204275532181692\n",
      "0.36423566831993215\n",
      "-0.5863949020170315\n",
      "0.6923031125305799\n"
     ]
    }
   ],
   "source": [
    "highM=2\n",
    "lowM=-1\n",
    "for taco in range(100):\n",
    "    print((random.random())*(highM-lowM)+lowM)"
   ]
  },
  {
   "cell_type": "code",
   "execution_count": null,
   "id": "93243a16",
   "metadata": {},
   "outputs": [],
   "source": []
  }
 ],
 "metadata": {
  "kernelspec": {
   "display_name": "Python 3 (ipykernel)",
   "language": "python",
   "name": "python3"
  },
  "language_info": {
   "codemirror_mode": {
    "name": "ipython",
    "version": 3
   },
   "file_extension": ".py",
   "mimetype": "text/x-python",
   "name": "python",
   "nbconvert_exporter": "python",
   "pygments_lexer": "ipython3",
   "version": "3.9.13"
  }
 },
 "nbformat": 4,
 "nbformat_minor": 5
}
