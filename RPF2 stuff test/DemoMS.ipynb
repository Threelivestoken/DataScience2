{
 "cells": [
  {
   "cell_type": "code",
   "execution_count": 1,
   "id": "206b76ad",
   "metadata": {},
   "outputs": [],
   "source": [
    "import pandas as pd"
   ]
  },
  {
   "cell_type": "code",
   "execution_count": 2,
   "id": "db2943b4",
   "metadata": {},
   "outputs": [
    {
     "data": {
      "text/html": [
       "<div>\n",
       "<style scoped>\n",
       "    .dataframe tbody tr th:only-of-type {\n",
       "        vertical-align: middle;\n",
       "    }\n",
       "\n",
       "    .dataframe tbody tr th {\n",
       "        vertical-align: top;\n",
       "    }\n",
       "\n",
       "    .dataframe thead th {\n",
       "        text-align: right;\n",
       "    }\n",
       "</style>\n",
       "<table border=\"1\" class=\"dataframe\">\n",
       "  <thead>\n",
       "    <tr style=\"text-align: right;\">\n",
       "      <th></th>\n",
       "      <th>user_id</th>\n",
       "      <th>item_id</th>\n",
       "      <th>rating</th>\n",
       "      <th>timestamp</th>\n",
       "    </tr>\n",
       "  </thead>\n",
       "  <tbody>\n",
       "    <tr>\n",
       "      <th>0</th>\n",
       "      <td>0</td>\n",
       "      <td>50</td>\n",
       "      <td>5</td>\n",
       "      <td>1997-12-04 15:55:49</td>\n",
       "    </tr>\n",
       "    <tr>\n",
       "      <th>1</th>\n",
       "      <td>0</td>\n",
       "      <td>172</td>\n",
       "      <td>5</td>\n",
       "      <td>1997-12-04 15:55:49</td>\n",
       "    </tr>\n",
       "    <tr>\n",
       "      <th>2</th>\n",
       "      <td>0</td>\n",
       "      <td>133</td>\n",
       "      <td>1</td>\n",
       "      <td>1997-12-04 15:55:49</td>\n",
       "    </tr>\n",
       "    <tr>\n",
       "      <th>3</th>\n",
       "      <td>196</td>\n",
       "      <td>242</td>\n",
       "      <td>3</td>\n",
       "      <td>1997-12-04 15:55:49</td>\n",
       "    </tr>\n",
       "    <tr>\n",
       "      <th>4</th>\n",
       "      <td>186</td>\n",
       "      <td>302</td>\n",
       "      <td>3</td>\n",
       "      <td>1998-04-04 19:22:22</td>\n",
       "    </tr>\n",
       "  </tbody>\n",
       "</table>\n",
       "</div>"
      ],
      "text/plain": [
       "   user_id  item_id  rating           timestamp\n",
       "0        0       50       5 1997-12-04 15:55:49\n",
       "1        0      172       5 1997-12-04 15:55:49\n",
       "2        0      133       1 1997-12-04 15:55:49\n",
       "3      196      242       3 1997-12-04 15:55:49\n",
       "4      186      302       3 1998-04-04 19:22:22"
      ]
     },
     "execution_count": 2,
     "metadata": {},
     "output_type": "execute_result"
    }
   ],
   "source": [
    "movies = pd.read_json(\"movies.json\")\n",
    "reviews = pd.read_json(\"reviews.json\")\n",
    "reviews.head()"
   ]
  },
  {
   "cell_type": "code",
   "execution_count": 3,
   "id": "89ff928d",
   "metadata": {},
   "outputs": [],
   "source": [
    "reviews.drop(['timestamp'], inplace=True, axis=1)"
   ]
  },
  {
   "cell_type": "code",
   "execution_count": 4,
   "id": "99fe364f",
   "metadata": {},
   "outputs": [
    {
     "name": "stdout",
     "output_type": "stream",
     "text": [
      "<class 'pandas.core.frame.DataFrame'>\n",
      "RangeIndex: 99710 entries, 0 to 99709\n",
      "Data columns (total 3 columns):\n",
      " #   Column   Non-Null Count  Dtype\n",
      "---  ------   --------------  -----\n",
      " 0   user_id  99710 non-null  int64\n",
      " 1   item_id  99710 non-null  int64\n",
      " 2   rating   99710 non-null  int64\n",
      "dtypes: int64(3)\n",
      "memory usage: 2.3 MB\n"
     ]
    }
   ],
   "source": [
    "reviews.info()"
   ]
  },
  {
   "cell_type": "code",
   "execution_count": 5,
   "id": "1d76c192",
   "metadata": {},
   "outputs": [],
   "source": [
    "mostReviewed = 3\n",
    "topN = reviews.groupby('item_id').size()"
   ]
  },
  {
   "cell_type": "code",
   "execution_count": 6,
   "id": "d9f4ddc7",
   "metadata": {},
   "outputs": [
    {
     "data": {
      "text/html": [
       "<div>\n",
       "<style scoped>\n",
       "    .dataframe tbody tr th:only-of-type {\n",
       "        vertical-align: middle;\n",
       "    }\n",
       "\n",
       "    .dataframe tbody tr th {\n",
       "        vertical-align: top;\n",
       "    }\n",
       "\n",
       "    .dataframe thead th {\n",
       "        text-align: right;\n",
       "    }\n",
       "</style>\n",
       "<table border=\"1\" class=\"dataframe\">\n",
       "  <thead>\n",
       "    <tr style=\"text-align: right;\">\n",
       "      <th></th>\n",
       "      <th>item_id</th>\n",
       "      <th>0</th>\n",
       "    </tr>\n",
       "  </thead>\n",
       "  <tbody>\n",
       "    <tr>\n",
       "      <th>0</th>\n",
       "      <td>50</td>\n",
       "      <td>583</td>\n",
       "    </tr>\n",
       "    <tr>\n",
       "      <th>1</th>\n",
       "      <td>258</td>\n",
       "      <td>507</td>\n",
       "    </tr>\n",
       "    <tr>\n",
       "      <th>2</th>\n",
       "      <td>100</td>\n",
       "      <td>506</td>\n",
       "    </tr>\n",
       "  </tbody>\n",
       "</table>\n",
       "</div>"
      ],
      "text/plain": [
       "   item_id    0\n",
       "0       50  583\n",
       "1      258  507\n",
       "2      100  506"
      ]
     },
     "execution_count": 6,
     "metadata": {},
     "output_type": "execute_result"
    }
   ],
   "source": [
    "topN = topN.sort_values(ascending=False).reset_index()[:mostReviewed]\n",
    "topN"
   ]
  },
  {
   "cell_type": "code",
   "execution_count": 7,
   "id": "9ef525c7",
   "metadata": {},
   "outputs": [],
   "source": [
    "top3DF = reviews[reviews['item_id'].isin(topN['item_id'])]"
   ]
  },
  {
   "cell_type": "code",
   "execution_count": 8,
   "id": "250e75b7",
   "metadata": {},
   "outputs": [
    {
     "data": {
      "text/html": [
       "<div>\n",
       "<style scoped>\n",
       "    .dataframe tbody tr th:only-of-type {\n",
       "        vertical-align: middle;\n",
       "    }\n",
       "\n",
       "    .dataframe tbody tr th {\n",
       "        vertical-align: top;\n",
       "    }\n",
       "\n",
       "    .dataframe thead th {\n",
       "        text-align: right;\n",
       "    }\n",
       "</style>\n",
       "<table border=\"1\" class=\"dataframe\">\n",
       "  <thead>\n",
       "    <tr style=\"text-align: right;\">\n",
       "      <th></th>\n",
       "      <th>user_id</th>\n",
       "      <th>item_id</th>\n",
       "      <th>rating</th>\n",
       "    </tr>\n",
       "  </thead>\n",
       "  <tbody>\n",
       "    <tr>\n",
       "      <th>0</th>\n",
       "      <td>0</td>\n",
       "      <td>50</td>\n",
       "      <td>5</td>\n",
       "    </tr>\n",
       "    <tr>\n",
       "      <th>53</th>\n",
       "      <td>251</td>\n",
       "      <td>100</td>\n",
       "      <td>4</td>\n",
       "    </tr>\n",
       "    <tr>\n",
       "      <th>188</th>\n",
       "      <td>26</td>\n",
       "      <td>258</td>\n",
       "      <td>3</td>\n",
       "    </tr>\n",
       "    <tr>\n",
       "      <th>267</th>\n",
       "      <td>66</td>\n",
       "      <td>258</td>\n",
       "      <td>4</td>\n",
       "    </tr>\n",
       "    <tr>\n",
       "      <th>378</th>\n",
       "      <td>207</td>\n",
       "      <td>258</td>\n",
       "      <td>4</td>\n",
       "    </tr>\n",
       "  </tbody>\n",
       "</table>\n",
       "</div>"
      ],
      "text/plain": [
       "     user_id  item_id  rating\n",
       "0          0       50       5\n",
       "53       251      100       4\n",
       "188       26      258       3\n",
       "267       66      258       4\n",
       "378      207      258       4"
      ]
     },
     "execution_count": 8,
     "metadata": {},
     "output_type": "execute_result"
    }
   ],
   "source": [
    "top3DF.head()"
   ]
  },
  {
   "cell_type": "code",
   "execution_count": 9,
   "id": "ede16c23",
   "metadata": {},
   "outputs": [],
   "source": [
    "pivotDF = top3DF.pivot(index='user_id', columns='item_id', values='rating')"
   ]
  },
  {
   "cell_type": "code",
   "execution_count": 10,
   "id": "2d9d2358",
   "metadata": {},
   "outputs": [],
   "source": [
    "pivotDF = pivotDF.dropna(axis=0, how=\"all\")"
   ]
  },
  {
   "cell_type": "code",
   "execution_count": 11,
   "id": "e4932aa0",
   "metadata": {},
   "outputs": [],
   "source": [
    "pivotDF = pivotDF.fillna(-1)"
   ]
  },
  {
   "cell_type": "code",
   "execution_count": 12,
   "id": "072e4675",
   "metadata": {},
   "outputs": [
    {
     "data": {
      "text/html": [
       "<div>\n",
       "<style scoped>\n",
       "    .dataframe tbody tr th:only-of-type {\n",
       "        vertical-align: middle;\n",
       "    }\n",
       "\n",
       "    .dataframe tbody tr th {\n",
       "        vertical-align: top;\n",
       "    }\n",
       "\n",
       "    .dataframe thead th {\n",
       "        text-align: right;\n",
       "    }\n",
       "</style>\n",
       "<table border=\"1\" class=\"dataframe\">\n",
       "  <thead>\n",
       "    <tr style=\"text-align: right;\">\n",
       "      <th>item_id</th>\n",
       "      <th>50</th>\n",
       "      <th>100</th>\n",
       "      <th>258</th>\n",
       "    </tr>\n",
       "    <tr>\n",
       "      <th>user_id</th>\n",
       "      <th></th>\n",
       "      <th></th>\n",
       "      <th></th>\n",
       "    </tr>\n",
       "  </thead>\n",
       "  <tbody>\n",
       "    <tr>\n",
       "      <th>0</th>\n",
       "      <td>5.0</td>\n",
       "      <td>-1.0</td>\n",
       "      <td>-1.0</td>\n",
       "    </tr>\n",
       "    <tr>\n",
       "      <th>1</th>\n",
       "      <td>5.0</td>\n",
       "      <td>5.0</td>\n",
       "      <td>5.0</td>\n",
       "    </tr>\n",
       "    <tr>\n",
       "      <th>2</th>\n",
       "      <td>5.0</td>\n",
       "      <td>5.0</td>\n",
       "      <td>3.0</td>\n",
       "    </tr>\n",
       "    <tr>\n",
       "      <th>3</th>\n",
       "      <td>-1.0</td>\n",
       "      <td>-1.0</td>\n",
       "      <td>2.0</td>\n",
       "    </tr>\n",
       "    <tr>\n",
       "      <th>4</th>\n",
       "      <td>5.0</td>\n",
       "      <td>-1.0</td>\n",
       "      <td>5.0</td>\n",
       "    </tr>\n",
       "  </tbody>\n",
       "</table>\n",
       "</div>"
      ],
      "text/plain": [
       "item_id  50   100  258\n",
       "user_id               \n",
       "0        5.0 -1.0 -1.0\n",
       "1        5.0  5.0  5.0\n",
       "2        5.0  5.0  3.0\n",
       "3       -1.0 -1.0  2.0\n",
       "4        5.0 -1.0  5.0"
      ]
     },
     "execution_count": 12,
     "metadata": {},
     "output_type": "execute_result"
    }
   ],
   "source": [
    "pivotDF.head()"
   ]
  },
  {
   "cell_type": "code",
   "execution_count": 13,
   "id": "1ca3a289",
   "metadata": {},
   "outputs": [],
   "source": [
    "from sklearn.cluster import MeanShift"
   ]
  },
  {
   "cell_type": "code",
   "execution_count": 14,
   "id": "c94c127e",
   "metadata": {},
   "outputs": [],
   "source": [
    "ms = MeanShift(bandwidth=2)"
   ]
  },
  {
   "cell_type": "code",
   "execution_count": 15,
   "id": "7cc7e3ef",
   "metadata": {},
   "outputs": [],
   "source": [
    "ms = ms.fit(pivotDF)"
   ]
  },
  {
   "cell_type": "code",
   "execution_count": 16,
   "id": "2bf78bb1",
   "metadata": {},
   "outputs": [
    {
     "data": {
      "text/plain": [
       "array([4, 0, 0, 2, 3, 1, 0, 0, 3, 4, 1, 6, 4, 0, 1, 3, 5, 5, 1, 2, 4, 0,\n",
       "       3, 0, 6, 3, 0, 1, 0, 3, 1, 2, 2, 4, 2, 2, 1, 4, 0, 0, 1, 1, 2, 4,\n",
       "       7, 5, 4, 6, 0, 0, 4, 3, 0, 1, 0, 4, 2, 0, 0, 0, 0, 3, 3, 0, 4, 1,\n",
       "       1, 5, 6, 5, 6, 1, 0, 1, 5, 1, 4, 0, 2, 1, 1, 6, 4, 0, 0, 4, 1, 1,\n",
       "       0, 2, 4, 3, 4, 0, 2, 5, 2, 1, 0, 2, 2, 2, 0, 5, 1, 3, 3, 6, 0, 3,\n",
       "       1, 1, 4, 3, 2, 3, 3, 2, 0, 5, 1, 2, 2, 2, 6, 4, 5, 5, 2, 0, 2, 0,\n",
       "       0, 2, 2, 4, 2, 1, 0, 2, 3, 5, 0, 1, 2, 1, 1, 4, 2, 6, 2, 2, 6, 3,\n",
       "       2, 2, 2, 1, 1, 0, 0, 0, 2, 2, 6, 1, 3, 0, 3, 5, 1, 1, 6, 0, 6, 1,\n",
       "       6, 3, 3, 6, 3, 0, 2, 3, 2, 2, 2, 6, 3, 4, 0, 1, 3, 1, 2, 5, 2, 2,\n",
       "       1, 0, 2, 2, 2, 1, 2, 1, 4, 1, 1, 0, 1, 1, 5, 2, 1, 0, 3, 1, 0, 1,\n",
       "       0, 0, 0, 5, 1, 3, 6, 1, 0, 2, 2, 7, 0, 5, 7, 5, 1, 0, 1, 3, 0, 4,\n",
       "       0, 3, 0, 0, 2, 1, 1, 2, 2, 1, 2, 7, 0, 1, 0, 4, 1, 1, 0, 0, 1, 0,\n",
       "       0, 4, 1, 5, 0, 2, 0, 0, 7, 0, 1, 2, 3, 3, 1, 0, 5, 5, 1, 1, 1, 3,\n",
       "       0, 3, 1, 4, 7, 0, 0, 1, 5, 3, 5, 0, 2, 1, 4, 5, 0, 4, 5, 0, 0, 0,\n",
       "       1, 0, 5, 5, 3, 2, 1, 2, 0, 2, 2, 2, 4, 0, 0, 2, 0, 6, 0, 1, 4, 1,\n",
       "       4, 5, 1, 1, 5, 6, 0, 1, 0, 1, 7, 5, 2, 5, 4, 0, 6, 1, 6, 0, 3, 3,\n",
       "       4, 0, 5, 1, 1, 1, 2, 5, 0, 0, 2, 4, 1, 0, 2, 1, 2, 3, 0, 6, 2, 0,\n",
       "       0, 2, 1, 5, 1, 0, 6, 7, 0, 1, 2, 0, 0, 0, 4, 0, 4, 1, 1, 5, 2, 5,\n",
       "       5, 2, 0, 1, 0, 2, 5, 0, 2, 1, 0, 0, 0, 0, 0, 1, 3, 6, 3, 5, 0, 3,\n",
       "       0, 3, 0, 0, 0, 4, 0, 0, 1, 1, 0, 0, 1, 3, 3, 3, 0, 0, 0, 2, 0, 6,\n",
       "       5, 0, 1, 4, 4, 0, 0, 7, 0, 5, 2, 1, 0, 4, 3, 3, 4, 3, 2, 3, 3, 0,\n",
       "       2, 4, 3, 5, 5, 0, 5, 3, 1, 5, 0, 1, 3, 2, 1, 5, 0, 0, 4, 0, 0, 3,\n",
       "       0, 3, 1, 2, 3, 0, 2, 0, 0, 3, 7, 0, 1, 1, 0, 4, 5, 0, 7, 4, 4, 3,\n",
       "       1, 5, 5, 0, 2, 5, 3, 6, 4, 1, 1, 2, 0, 0, 1, 0, 6, 3, 4, 2, 2, 5,\n",
       "       5, 0, 1, 1, 0, 3, 4, 2, 4, 0, 4, 1, 5, 5, 0, 5, 5, 2, 4, 5, 3, 5,\n",
       "       5, 2, 5, 1, 3, 4, 1, 1, 3, 0, 0, 2, 6, 2, 0, 0, 0, 4, 0, 6, 1, 1,\n",
       "       5, 3, 3, 1, 0, 3, 2, 4, 4, 0, 0, 3, 0, 2, 1, 3, 1, 3, 1, 0, 1, 1,\n",
       "       0, 3, 3, 3, 4, 2, 4, 2, 0, 1, 1, 1, 2, 0, 2, 1, 4, 3, 4, 5, 3, 1,\n",
       "       4, 0, 0, 4, 1, 2, 0, 1, 4, 3, 5, 3, 4, 0, 3, 4, 3, 1, 4, 0, 4, 2,\n",
       "       3, 5, 3, 2, 6, 0, 5, 0, 6, 4, 0, 4, 6, 0, 1, 2, 4, 0, 6, 4, 0, 4,\n",
       "       0, 3, 0, 2, 1, 2, 4, 2, 0, 0, 0, 3, 3, 3, 0, 1, 4, 4, 5, 1, 2, 0,\n",
       "       3, 2, 0, 4, 2, 4, 5, 3, 4, 0, 3, 2, 2, 4, 1, 2, 6, 1, 0, 4, 5, 1,\n",
       "       1, 1, 0, 4, 3, 3, 4, 2, 1, 0, 0, 3, 2, 2, 5, 3, 2, 2, 2, 2, 2, 5,\n",
       "       1, 0, 3, 2, 6, 1, 0, 3, 1, 0, 4, 2, 2, 0, 0, 1, 2, 2, 3, 0, 3, 3,\n",
       "       4, 4, 3, 1, 2, 0, 2, 2, 5, 5, 0, 2, 0, 6, 3, 1, 1, 0, 3, 2, 2, 5,\n",
       "       3, 2, 0, 4, 0, 1, 3, 1, 6, 1, 1, 1, 5, 0, 3, 1, 1, 3, 0, 1, 0, 4,\n",
       "       2, 3, 5, 4, 3, 1, 6, 5, 0, 1, 1, 0, 2, 1, 1, 0, 2, 4, 3, 1, 0, 2,\n",
       "       1, 1, 0, 5, 1, 1, 5, 0, 0, 0, 2, 0, 2, 3, 1], dtype=int64)"
      ]
     },
     "execution_count": 16,
     "metadata": {},
     "output_type": "execute_result"
    }
   ],
   "source": [
    "ms.labels_"
   ]
  },
  {
   "cell_type": "code",
   "execution_count": 17,
   "id": "bf9ccdf3",
   "metadata": {},
   "outputs": [],
   "source": [
    "from sklearn.metrics import silhouette_score"
   ]
  },
  {
   "cell_type": "code",
   "execution_count": 18,
   "id": "889bb0a7",
   "metadata": {},
   "outputs": [],
   "source": [
    "ss = silhouette_score(pivotDF, ms.labels_)"
   ]
  },
  {
   "cell_type": "code",
   "execution_count": null,
   "id": "2f6f777f",
   "metadata": {},
   "outputs": [],
   "source": [
    "ss"
   ]
  },
  {
   "cell_type": "code",
   "execution_count": 19,
   "id": "bf9af0e6",
   "metadata": {},
   "outputs": [],
   "source": [
    "scores = {}\n",
    "for i in range(2, 10):\n",
    "    ms = MeanShift(bandwidth=i)\n",
    "    ms = ms.fit(pivotDF)\n",
    "    if(len(set(ms.labels_)) > 1):\n",
    "        ss = silhouette_score(pivotDF, ms.labels_)\n",
    "        scores[i] = ss"
   ]
  },
  {
   "cell_type": "code",
   "execution_count": null,
   "id": "b43e1590",
   "metadata": {},
   "outputs": [],
   "source": [
    "scores"
   ]
  },
  {
   "cell_type": "code",
   "execution_count": null,
   "id": "ccc3e22b",
   "metadata": {},
   "outputs": [],
   "source": [
    "ms = MeanShift(bandwidth=3)\n",
    "ms = ms.fit(pivotDF)"
   ]
  },
  {
   "cell_type": "code",
   "execution_count": null,
   "id": "cf88570f",
   "metadata": {},
   "outputs": [],
   "source": [
    "pivotDF['Cluster'] = ms.labels_"
   ]
  },
  {
   "cell_type": "code",
   "execution_count": null,
   "id": "4463ca38",
   "metadata": {},
   "outputs": [],
   "source": [
    "pivotDF.head()"
   ]
  },
  {
   "cell_type": "code",
   "execution_count": null,
   "id": "8b528035",
   "metadata": {},
   "outputs": [],
   "source": [
    "# Let's take a look at user #1! What movie should they watch next?\n",
    "user1 = reviews[reviews['user_id'] == 1]"
   ]
  },
  {
   "cell_type": "code",
   "execution_count": null,
   "id": "29248a62",
   "metadata": {},
   "outputs": [],
   "source": [
    "user1"
   ]
  },
  {
   "cell_type": "code",
   "execution_count": null,
   "id": "9c402790",
   "metadata": {},
   "outputs": [],
   "source": [
    "user2 = reviews[reviews['user_id'] == 2]"
   ]
  },
  {
   "cell_type": "code",
   "execution_count": null,
   "id": "c805aec2",
   "metadata": {},
   "outputs": [],
   "source": [
    "user2"
   ]
  },
  {
   "cell_type": "code",
   "execution_count": null,
   "id": "68c2c04a",
   "metadata": {},
   "outputs": [],
   "source": [
    "user1[user1['item_id'] == 302]"
   ]
  },
  {
   "cell_type": "code",
   "execution_count": null,
   "id": "3189ed55",
   "metadata": {},
   "outputs": [],
   "source": [
    "movies[movies['item_id'] == 302]"
   ]
  },
  {
   "cell_type": "code",
   "execution_count": null,
   "id": "a7f4a737",
   "metadata": {},
   "outputs": [],
   "source": []
  }
 ],
 "metadata": {
  "kernelspec": {
   "display_name": "Python 3 (ipykernel)",
   "language": "python",
   "name": "python3"
  },
  "language_info": {
   "codemirror_mode": {
    "name": "ipython",
    "version": 3
   },
   "file_extension": ".py",
   "mimetype": "text/x-python",
   "name": "python",
   "nbconvert_exporter": "python",
   "pygments_lexer": "ipython3",
   "version": "3.11.7"
  }
 },
 "nbformat": 4,
 "nbformat_minor": 5
}
