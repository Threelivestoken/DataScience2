{
 "cells": [
  {
   "cell_type": "code",
   "execution_count": null,
   "id": "225c61fe",
   "metadata": {},
   "outputs": [],
   "source": [
    "#Predefinitions"
   ]
  },
  {
   "cell_type": "code",
   "execution_count": null,
   "id": "5ee231f3",
   "metadata": {},
   "outputs": [],
   "source": [
    "typeofoperation=[0,1,2,3,4,5,6,7]\n",
    "speciallist=[0,1,2,3,4,5,6,7]#has characters that it can access, these dont change during each iteration\n",
    "specialoperations[\"+\",\"-\",\"*\",\"/\",\"ix**x\",\"mag\"]#special type of operations, i means using imaginary\n",
    "\n",
    "#typeofoperation step 1\n",
    "#0 is delete input after then normal simple a(m[1,2]x[1,2]+b)\n",
    "#1 is partial delete then #1"
   ]
  },
  {
   "cell_type": "code",
   "execution_count": 10,
   "id": "9b9ec678",
   "metadata": {},
   "outputs": [],
   "source": [
    "#1d activation functions\n",
    "def act1(x):\n",
    "    e=2.75\n",
    "    f=(e**(x)-e**(-x))/(e**(x)+e**(-x))\n",
    "    return f\n",
    "def act2(x):\n",
    "    f=x/(x**2+1)**.5\n",
    "    return f"
   ]
  },
  {
   "cell_type": "code",
   "execution_count": 11,
   "id": "7730b14c",
   "metadata": {},
   "outputs": [
    {
     "data": {
      "text/plain": [
       "0.9999500037496876"
      ]
     },
     "execution_count": 11,
     "metadata": {},
     "output_type": "execute_result"
    }
   ],
   "source": [
    "act2(100)"
   ]
  },
  {
   "cell_type": "code",
   "execution_count": null,
   "id": "286cc9d1",
   "metadata": {},
   "outputs": [],
   "source": [
    "x=[\"a\",2,3,4,5]"
   ]
  }
 ],
 "metadata": {
  "kernelspec": {
   "display_name": "Python 3 (ipykernel)",
   "language": "python",
   "name": "python3"
  },
  "language_info": {
   "codemirror_mode": {
    "name": "ipython",
    "version": 3
   },
   "file_extension": ".py",
   "mimetype": "text/x-python",
   "name": "python",
   "nbconvert_exporter": "python",
   "pygments_lexer": "ipython3",
   "version": "3.9.13"
  }
 },
 "nbformat": 4,
 "nbformat_minor": 5
}
