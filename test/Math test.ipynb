{
 "cells": [
  {
   "cell_type": "code",
   "execution_count": 29,
   "id": "9874dbe6",
   "metadata": {},
   "outputs": [],
   "source": [
    "def game(x):\n",
    "    p=x\n",
    "    for taco in range(128):\n",
    "        if (round(x/2)-x/2)==0:\n",
    "            x=x/2\n",
    "        else:\n",
    "            x=3*x+1\n",
    "    if x == 1 or x==2 or x ==4:\n",
    "        x=x\n",
    "    else:\n",
    "        print(x,p)\n",
    "    return x\n"
   ]
  },
  {
   "cell_type": "code",
   "execution_count": 30,
   "id": "01eb880a",
   "metadata": {},
   "outputs": [
    {
     "name": "stdout",
     "output_type": "stream",
     "text": [
      "0.0 0\n",
      "23.0 327\n",
      "5.0 411\n",
      "5.0 415\n",
      "5.0 417\n",
      "35.0 487\n",
      "35.0 491\n",
      "40.0 543\n",
      "40.0 553\n",
      "8.0 609\n",
      "8.0 617\n",
      "8.0 619\n",
      "8.0 623\n",
      "8.0 626\n",
      "8.0 627\n",
      "8.0 639\n",
      "46.0 649\n",
      "46.0 654\n",
      "46.0 655\n",
      "46.0 667\n",
      "10048.0 703\n",
      "53.0 731\n",
      "53.0 737\n",
      "53.0 751\n",
      "325.0 763\n",
      "325.0 775\n",
      "10.0 811\n",
      "10.0 815\n",
      "10.0 822\n",
      "10.0 823\n",
      "10.0 825\n",
      "10.0 830\n",
      "10.0 831\n",
      "10.0 834\n",
      "10.0 835\n",
      "61.0 859\n",
      "61.0 865\n",
      "2158.0 871\n",
      "61.0 873\n",
      "61.0 879\n",
      "61.0 889\n",
      "13396.0 937\n",
      "70.0 967\n",
      "70.0 974\n",
      "70.0 975\n",
      "70.0 982\n",
      "70.0 983\n"
     ]
    }
   ],
   "source": [
    "for taco in range(1000):\n",
    "    l=taco\n",
    "    game(l)"
   ]
  },
  {
   "cell_type": "code",
   "execution_count": null,
   "id": "66bead83",
   "metadata": {},
   "outputs": [],
   "source": []
  }
 ],
 "metadata": {
  "kernelspec": {
   "display_name": "Python 3 (ipykernel)",
   "language": "python",
   "name": "python3"
  },
  "language_info": {
   "codemirror_mode": {
    "name": "ipython",
    "version": 3
   },
   "file_extension": ".py",
   "mimetype": "text/x-python",
   "name": "python",
   "nbconvert_exporter": "python",
   "pygments_lexer": "ipython3",
   "version": "3.9.13"
  }
 },
 "nbformat": 4,
 "nbformat_minor": 5
}
