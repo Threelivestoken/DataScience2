{
 "cells": [
  {
   "cell_type": "code",
   "execution_count": 33,
   "id": "206b76ad",
   "metadata": {},
   "outputs": [],
   "source": [
    "import pandas as pd"
   ]
  },
  {
   "cell_type": "code",
   "execution_count": 34,
   "id": "db2943b4",
   "metadata": {},
   "outputs": [
    {
     "data": {
      "text/html": [
       "<div>\n",
       "<style scoped>\n",
       "    .dataframe tbody tr th:only-of-type {\n",
       "        vertical-align: middle;\n",
       "    }\n",
       "\n",
       "    .dataframe tbody tr th {\n",
       "        vertical-align: top;\n",
       "    }\n",
       "\n",
       "    .dataframe thead th {\n",
       "        text-align: right;\n",
       "    }\n",
       "</style>\n",
       "<table border=\"1\" class=\"dataframe\">\n",
       "  <thead>\n",
       "    <tr style=\"text-align: right;\">\n",
       "      <th></th>\n",
       "      <th>user_id</th>\n",
       "      <th>item_id</th>\n",
       "      <th>rating</th>\n",
       "      <th>timestamp</th>\n",
       "    </tr>\n",
       "  </thead>\n",
       "  <tbody>\n",
       "    <tr>\n",
       "      <th>0</th>\n",
       "      <td>0</td>\n",
       "      <td>50</td>\n",
       "      <td>5</td>\n",
       "      <td>1997-12-04 15:55:49</td>\n",
       "    </tr>\n",
       "    <tr>\n",
       "      <th>1</th>\n",
       "      <td>0</td>\n",
       "      <td>172</td>\n",
       "      <td>5</td>\n",
       "      <td>1997-12-04 15:55:49</td>\n",
       "    </tr>\n",
       "    <tr>\n",
       "      <th>2</th>\n",
       "      <td>0</td>\n",
       "      <td>133</td>\n",
       "      <td>1</td>\n",
       "      <td>1997-12-04 15:55:49</td>\n",
       "    </tr>\n",
       "    <tr>\n",
       "      <th>3</th>\n",
       "      <td>196</td>\n",
       "      <td>242</td>\n",
       "      <td>3</td>\n",
       "      <td>1997-12-04 15:55:49</td>\n",
       "    </tr>\n",
       "    <tr>\n",
       "      <th>4</th>\n",
       "      <td>186</td>\n",
       "      <td>302</td>\n",
       "      <td>3</td>\n",
       "      <td>1998-04-04 19:22:22</td>\n",
       "    </tr>\n",
       "  </tbody>\n",
       "</table>\n",
       "</div>"
      ],
      "text/plain": [
       "   user_id  item_id  rating           timestamp\n",
       "0        0       50       5 1997-12-04 15:55:49\n",
       "1        0      172       5 1997-12-04 15:55:49\n",
       "2        0      133       1 1997-12-04 15:55:49\n",
       "3      196      242       3 1997-12-04 15:55:49\n",
       "4      186      302       3 1998-04-04 19:22:22"
      ]
     },
     "execution_count": 34,
     "metadata": {},
     "output_type": "execute_result"
    }
   ],
   "source": [
    "movies = pd.read_json(\"movies.json\")\n",
    "reviews = pd.read_json(\"reviews.json\")\n",
    "reviews.head()"
   ]
  },
  {
   "cell_type": "code",
   "execution_count": 35,
   "id": "89ff928d",
   "metadata": {},
   "outputs": [],
   "source": [
    "reviews.drop(['timestamp'], inplace=True, axis=1)"
   ]
  },
  {
   "cell_type": "code",
   "execution_count": 36,
   "id": "99fe364f",
   "metadata": {},
   "outputs": [
    {
     "name": "stdout",
     "output_type": "stream",
     "text": [
      "<class 'pandas.core.frame.DataFrame'>\n",
      "RangeIndex: 99710 entries, 0 to 99709\n",
      "Data columns (total 3 columns):\n",
      " #   Column   Non-Null Count  Dtype\n",
      "---  ------   --------------  -----\n",
      " 0   user_id  99710 non-null  int64\n",
      " 1   item_id  99710 non-null  int64\n",
      " 2   rating   99710 non-null  int64\n",
      "dtypes: int64(3)\n",
      "memory usage: 2.3 MB\n"
     ]
    }
   ],
   "source": [
    "reviews.info()"
   ]
  },
  {
   "cell_type": "code",
   "execution_count": 37,
   "id": "1d76c192",
   "metadata": {},
   "outputs": [],
   "source": [
    "mostReviewed = 3\n",
    "topN = reviews.groupby('item_id').size()"
   ]
  },
  {
   "cell_type": "code",
   "execution_count": 38,
   "id": "d9f4ddc7",
   "metadata": {},
   "outputs": [
    {
     "data": {
      "text/html": [
       "<div>\n",
       "<style scoped>\n",
       "    .dataframe tbody tr th:only-of-type {\n",
       "        vertical-align: middle;\n",
       "    }\n",
       "\n",
       "    .dataframe tbody tr th {\n",
       "        vertical-align: top;\n",
       "    }\n",
       "\n",
       "    .dataframe thead th {\n",
       "        text-align: right;\n",
       "    }\n",
       "</style>\n",
       "<table border=\"1\" class=\"dataframe\">\n",
       "  <thead>\n",
       "    <tr style=\"text-align: right;\">\n",
       "      <th></th>\n",
       "      <th>item_id</th>\n",
       "      <th>0</th>\n",
       "    </tr>\n",
       "  </thead>\n",
       "  <tbody>\n",
       "    <tr>\n",
       "      <th>0</th>\n",
       "      <td>50</td>\n",
       "      <td>583</td>\n",
       "    </tr>\n",
       "    <tr>\n",
       "      <th>1</th>\n",
       "      <td>258</td>\n",
       "      <td>507</td>\n",
       "    </tr>\n",
       "    <tr>\n",
       "      <th>2</th>\n",
       "      <td>100</td>\n",
       "      <td>506</td>\n",
       "    </tr>\n",
       "  </tbody>\n",
       "</table>\n",
       "</div>"
      ],
      "text/plain": [
       "   item_id    0\n",
       "0       50  583\n",
       "1      258  507\n",
       "2      100  506"
      ]
     },
     "execution_count": 38,
     "metadata": {},
     "output_type": "execute_result"
    }
   ],
   "source": [
    "topN = topN.sort_values(ascending=False).reset_index()[:mostReviewed]\n",
    "topN"
   ]
  },
  {
   "cell_type": "code",
   "execution_count": 39,
   "id": "9ef525c7",
   "metadata": {},
   "outputs": [],
   "source": [
    "top3DF = reviews[reviews['item_id'].isin(topN['item_id'])]"
   ]
  },
  {
   "cell_type": "code",
   "execution_count": 40,
   "id": "250e75b7",
   "metadata": {},
   "outputs": [
    {
     "data": {
      "text/html": [
       "<div>\n",
       "<style scoped>\n",
       "    .dataframe tbody tr th:only-of-type {\n",
       "        vertical-align: middle;\n",
       "    }\n",
       "\n",
       "    .dataframe tbody tr th {\n",
       "        vertical-align: top;\n",
       "    }\n",
       "\n",
       "    .dataframe thead th {\n",
       "        text-align: right;\n",
       "    }\n",
       "</style>\n",
       "<table border=\"1\" class=\"dataframe\">\n",
       "  <thead>\n",
       "    <tr style=\"text-align: right;\">\n",
       "      <th></th>\n",
       "      <th>user_id</th>\n",
       "      <th>item_id</th>\n",
       "      <th>rating</th>\n",
       "    </tr>\n",
       "  </thead>\n",
       "  <tbody>\n",
       "    <tr>\n",
       "      <th>0</th>\n",
       "      <td>0</td>\n",
       "      <td>50</td>\n",
       "      <td>5</td>\n",
       "    </tr>\n",
       "    <tr>\n",
       "      <th>53</th>\n",
       "      <td>251</td>\n",
       "      <td>100</td>\n",
       "      <td>4</td>\n",
       "    </tr>\n",
       "    <tr>\n",
       "      <th>188</th>\n",
       "      <td>26</td>\n",
       "      <td>258</td>\n",
       "      <td>3</td>\n",
       "    </tr>\n",
       "    <tr>\n",
       "      <th>267</th>\n",
       "      <td>66</td>\n",
       "      <td>258</td>\n",
       "      <td>4</td>\n",
       "    </tr>\n",
       "    <tr>\n",
       "      <th>378</th>\n",
       "      <td>207</td>\n",
       "      <td>258</td>\n",
       "      <td>4</td>\n",
       "    </tr>\n",
       "  </tbody>\n",
       "</table>\n",
       "</div>"
      ],
      "text/plain": [
       "     user_id  item_id  rating\n",
       "0          0       50       5\n",
       "53       251      100       4\n",
       "188       26      258       3\n",
       "267       66      258       4\n",
       "378      207      258       4"
      ]
     },
     "execution_count": 40,
     "metadata": {},
     "output_type": "execute_result"
    }
   ],
   "source": [
    "top3DF.head()"
   ]
  },
  {
   "cell_type": "code",
   "execution_count": 41,
   "id": "ede16c23",
   "metadata": {},
   "outputs": [],
   "source": [
    "pivotDF = top3DF.pivot(index='user_id', columns='item_id', values='rating')"
   ]
  },
  {
   "cell_type": "code",
   "execution_count": 44,
   "id": "2d9d2358",
   "metadata": {},
   "outputs": [],
   "source": [
    "pivotDF = pivotDF.dropna(axis=0, how=\"all\")"
   ]
  },
  {
   "cell_type": "code",
   "execution_count": 46,
   "id": "e4932aa0",
   "metadata": {},
   "outputs": [],
   "source": [
    "pivotDF = pivotDF.fillna(-1)"
   ]
  },
  {
   "cell_type": "code",
   "execution_count": 47,
   "id": "072e4675",
   "metadata": {},
   "outputs": [
    {
     "data": {
      "text/html": [
       "<div>\n",
       "<style scoped>\n",
       "    .dataframe tbody tr th:only-of-type {\n",
       "        vertical-align: middle;\n",
       "    }\n",
       "\n",
       "    .dataframe tbody tr th {\n",
       "        vertical-align: top;\n",
       "    }\n",
       "\n",
       "    .dataframe thead th {\n",
       "        text-align: right;\n",
       "    }\n",
       "</style>\n",
       "<table border=\"1\" class=\"dataframe\">\n",
       "  <thead>\n",
       "    <tr style=\"text-align: right;\">\n",
       "      <th>item_id</th>\n",
       "      <th>50</th>\n",
       "      <th>100</th>\n",
       "      <th>258</th>\n",
       "    </tr>\n",
       "    <tr>\n",
       "      <th>user_id</th>\n",
       "      <th></th>\n",
       "      <th></th>\n",
       "      <th></th>\n",
       "    </tr>\n",
       "  </thead>\n",
       "  <tbody>\n",
       "    <tr>\n",
       "      <th>0</th>\n",
       "      <td>5.0</td>\n",
       "      <td>-1.0</td>\n",
       "      <td>-1.0</td>\n",
       "    </tr>\n",
       "    <tr>\n",
       "      <th>1</th>\n",
       "      <td>5.0</td>\n",
       "      <td>5.0</td>\n",
       "      <td>5.0</td>\n",
       "    </tr>\n",
       "    <tr>\n",
       "      <th>2</th>\n",
       "      <td>5.0</td>\n",
       "      <td>5.0</td>\n",
       "      <td>3.0</td>\n",
       "    </tr>\n",
       "    <tr>\n",
       "      <th>3</th>\n",
       "      <td>-1.0</td>\n",
       "      <td>-1.0</td>\n",
       "      <td>2.0</td>\n",
       "    </tr>\n",
       "    <tr>\n",
       "      <th>4</th>\n",
       "      <td>5.0</td>\n",
       "      <td>-1.0</td>\n",
       "      <td>5.0</td>\n",
       "    </tr>\n",
       "  </tbody>\n",
       "</table>\n",
       "</div>"
      ],
      "text/plain": [
       "item_id  50   100  258\n",
       "user_id               \n",
       "0        5.0 -1.0 -1.0\n",
       "1        5.0  5.0  5.0\n",
       "2        5.0  5.0  3.0\n",
       "3       -1.0 -1.0  2.0\n",
       "4        5.0 -1.0  5.0"
      ]
     },
     "execution_count": 47,
     "metadata": {},
     "output_type": "execute_result"
    }
   ],
   "source": [
    "pivotDF.head()"
   ]
  },
  {
   "cell_type": "code",
   "execution_count": 48,
   "id": "1ca3a289",
   "metadata": {},
   "outputs": [],
   "source": [
    "from sklearn.cluster import MeanShift"
   ]
  },
  {
   "cell_type": "code",
   "execution_count": 49,
   "id": "c94c127e",
   "metadata": {},
   "outputs": [],
   "source": [
    "ms = MeanShift(bandwidth=2)"
   ]
  },
  {
   "cell_type": "code",
   "execution_count": 51,
   "id": "7cc7e3ef",
   "metadata": {},
   "outputs": [],
   "source": [
    "ms = ms.fit(pivotDF)"
   ]
  },
  {
   "cell_type": "code",
   "execution_count": 52,
   "id": "2bf78bb1",
   "metadata": {},
   "outputs": [
    {
     "data": {
      "text/plain": [
       "array([4, 0, 0, 2, 3, 1, 0, 0, 3, 4, 1, 6, 4, 0, 1, 3, 5, 5, 1, 2, 4, 0,\n",
       "       3, 0, 6, 3, 0, 1, 0, 3, 1, 2, 2, 4, 2, 2, 1, 4, 0, 0, 1, 1, 2, 4,\n",
       "       7, 5, 4, 6, 0, 0, 4, 3, 0, 1, 0, 4, 2, 0, 0, 0, 0, 3, 3, 0, 4, 1,\n",
       "       1, 5, 6, 5, 6, 1, 0, 1, 5, 1, 4, 0, 2, 1, 1, 6, 4, 0, 0, 4, 1, 1,\n",
       "       0, 2, 4, 3, 4, 0, 2, 5, 2, 1, 0, 2, 2, 2, 0, 5, 1, 3, 3, 6, 0, 3,\n",
       "       1, 1, 4, 3, 2, 3, 3, 2, 0, 5, 1, 2, 2, 2, 6, 4, 5, 5, 2, 0, 2, 0,\n",
       "       0, 2, 2, 4, 2, 1, 0, 2, 3, 5, 0, 1, 2, 1, 1, 4, 2, 6, 2, 2, 6, 3,\n",
       "       2, 2, 2, 1, 1, 0, 0, 0, 2, 2, 6, 1, 3, 0, 3, 5, 1, 1, 6, 0, 6, 1,\n",
       "       6, 3, 3, 6, 3, 0, 2, 3, 2, 2, 2, 6, 3, 4, 0, 1, 3, 1, 2, 5, 2, 2,\n",
       "       1, 0, 2, 2, 2, 1, 2, 1, 4, 1, 1, 0, 1, 1, 5, 2, 1, 0, 3, 1, 0, 1,\n",
       "       0, 0, 0, 5, 1, 3, 6, 1, 0, 2, 2, 7, 0, 5, 7, 5, 1, 0, 1, 3, 0, 4,\n",
       "       0, 3, 0, 0, 2, 1, 1, 2, 2, 1, 2, 7, 0, 1, 0, 4, 1, 1, 0, 0, 1, 0,\n",
       "       0, 4, 1, 5, 0, 2, 0, 0, 7, 0, 1, 2, 3, 3, 1, 0, 5, 5, 1, 1, 1, 3,\n",
       "       0, 3, 1, 4, 7, 0, 0, 1, 5, 3, 5, 0, 2, 1, 4, 5, 0, 4, 5, 0, 0, 0,\n",
       "       1, 0, 5, 5, 3, 2, 1, 2, 0, 2, 2, 2, 4, 0, 0, 2, 0, 6, 0, 1, 4, 1,\n",
       "       4, 5, 1, 1, 5, 6, 0, 1, 0, 1, 7, 5, 2, 5, 4, 0, 6, 1, 6, 0, 3, 3,\n",
       "       4, 0, 5, 1, 1, 1, 2, 5, 0, 0, 2, 4, 1, 0, 2, 1, 2, 3, 0, 6, 2, 0,\n",
       "       0, 2, 1, 5, 1, 0, 6, 7, 0, 1, 2, 0, 0, 0, 4, 0, 4, 1, 1, 5, 2, 5,\n",
       "       5, 2, 0, 1, 0, 2, 5, 0, 2, 1, 0, 0, 0, 0, 0, 1, 3, 6, 3, 5, 0, 3,\n",
       "       0, 3, 0, 0, 0, 4, 0, 0, 1, 1, 0, 0, 1, 3, 3, 3, 0, 0, 0, 2, 0, 6,\n",
       "       5, 0, 1, 4, 4, 0, 0, 7, 0, 5, 2, 1, 0, 4, 3, 3, 4, 3, 2, 3, 3, 0,\n",
       "       2, 4, 3, 5, 5, 0, 5, 3, 1, 5, 0, 1, 3, 2, 1, 5, 0, 0, 4, 0, 0, 3,\n",
       "       0, 3, 1, 2, 3, 0, 2, 0, 0, 3, 7, 0, 1, 1, 0, 4, 5, 0, 7, 4, 4, 3,\n",
       "       1, 5, 5, 0, 2, 5, 3, 6, 4, 1, 1, 2, 0, 0, 1, 0, 6, 3, 4, 2, 2, 5,\n",
       "       5, 0, 1, 1, 0, 3, 4, 2, 4, 0, 4, 1, 5, 5, 0, 5, 5, 2, 4, 5, 3, 5,\n",
       "       5, 2, 5, 1, 3, 4, 1, 1, 3, 0, 0, 2, 6, 2, 0, 0, 0, 4, 0, 6, 1, 1,\n",
       "       5, 3, 3, 1, 0, 3, 2, 4, 4, 0, 0, 3, 0, 2, 1, 3, 1, 3, 1, 0, 1, 1,\n",
       "       0, 3, 3, 3, 4, 2, 4, 2, 0, 1, 1, 1, 2, 0, 2, 1, 4, 3, 4, 5, 3, 1,\n",
       "       4, 0, 0, 4, 1, 2, 0, 1, 4, 3, 5, 3, 4, 0, 3, 4, 3, 1, 4, 0, 4, 2,\n",
       "       3, 5, 3, 2, 6, 0, 5, 0, 6, 4, 0, 4, 6, 0, 1, 2, 4, 0, 6, 4, 0, 4,\n",
       "       0, 3, 0, 2, 1, 2, 4, 2, 0, 0, 0, 3, 3, 3, 0, 1, 4, 4, 5, 1, 2, 0,\n",
       "       3, 2, 0, 4, 2, 4, 5, 3, 4, 0, 3, 2, 2, 4, 1, 2, 6, 1, 0, 4, 5, 1,\n",
       "       1, 1, 0, 4, 3, 3, 4, 2, 1, 0, 0, 3, 2, 2, 5, 3, 2, 2, 2, 2, 2, 5,\n",
       "       1, 0, 3, 2, 6, 1, 0, 3, 1, 0, 4, 2, 2, 0, 0, 1, 2, 2, 3, 0, 3, 3,\n",
       "       4, 4, 3, 1, 2, 0, 2, 2, 5, 5, 0, 2, 0, 6, 3, 1, 1, 0, 3, 2, 2, 5,\n",
       "       3, 2, 0, 4, 0, 1, 3, 1, 6, 1, 1, 1, 5, 0, 3, 1, 1, 3, 0, 1, 0, 4,\n",
       "       2, 3, 5, 4, 3, 1, 6, 5, 0, 1, 1, 0, 2, 1, 1, 0, 2, 4, 3, 1, 0, 2,\n",
       "       1, 1, 0, 5, 1, 1, 5, 0, 0, 0, 2, 0, 2, 3, 1], dtype=int64)"
      ]
     },
     "execution_count": 52,
     "metadata": {},
     "output_type": "execute_result"
    }
   ],
   "source": [
    "ms.labels_"
   ]
  },
  {
   "cell_type": "code",
   "execution_count": 53,
   "id": "bf9ccdf3",
   "metadata": {},
   "outputs": [],
   "source": [
    "from sklearn.metrics import silhouette_score"
   ]
  },
  {
   "cell_type": "code",
   "execution_count": 54,
   "id": "889bb0a7",
   "metadata": {},
   "outputs": [],
   "source": [
    "ss = silhouette_score(pivotDF, ms.labels_)"
   ]
  },
  {
   "cell_type": "code",
   "execution_count": 55,
   "id": "2f6f777f",
   "metadata": {},
   "outputs": [
    {
     "data": {
      "text/plain": [
       "0.651624514271997"
      ]
     },
     "execution_count": 55,
     "metadata": {},
     "output_type": "execute_result"
    }
   ],
   "source": [
    "ss"
   ]
  },
  {
   "cell_type": "code",
   "execution_count": 57,
   "id": "bf9af0e6",
   "metadata": {},
   "outputs": [],
   "source": [
    "scores = {}\n",
    "for i in range(2, 10):\n",
    "    ms = MeanShift(bandwidth=i)\n",
    "    ms = ms.fit(pivotDF)\n",
    "    if(len(set(ms.labels_)) > 1):\n",
    "        ss = silhouette_score(pivotDF, ms.labels_)\n",
    "        scores[i] = ss"
   ]
  },
  {
   "cell_type": "code",
   "execution_count": 58,
   "id": "b43e1590",
   "metadata": {},
   "outputs": [
    {
     "data": {
      "text/plain": [
       "{2: 0.651624514271997,\n",
       " 3: 0.6819678355942147,\n",
       " 4: 0.3667231373387644,\n",
       " 5: 0.3374988034418743}"
      ]
     },
     "execution_count": 58,
     "metadata": {},
     "output_type": "execute_result"
    }
   ],
   "source": [
    "scores"
   ]
  },
  {
   "cell_type": "code",
   "execution_count": 59,
   "id": "ccc3e22b",
   "metadata": {},
   "outputs": [],
   "source": [
    "ms = MeanShift(bandwidth=3)\n",
    "ms = ms.fit(pivotDF)"
   ]
  },
  {
   "cell_type": "code",
   "execution_count": 60,
   "id": "cf88570f",
   "metadata": {},
   "outputs": [],
   "source": [
    "pivotDF['Cluster'] = ms.labels_"
   ]
  },
  {
   "cell_type": "code",
   "execution_count": 61,
   "id": "4463ca38",
   "metadata": {},
   "outputs": [
    {
     "data": {
      "text/html": [
       "<div>\n",
       "<style scoped>\n",
       "    .dataframe tbody tr th:only-of-type {\n",
       "        vertical-align: middle;\n",
       "    }\n",
       "\n",
       "    .dataframe tbody tr th {\n",
       "        vertical-align: top;\n",
       "    }\n",
       "\n",
       "    .dataframe thead th {\n",
       "        text-align: right;\n",
       "    }\n",
       "</style>\n",
       "<table border=\"1\" class=\"dataframe\">\n",
       "  <thead>\n",
       "    <tr style=\"text-align: right;\">\n",
       "      <th>item_id</th>\n",
       "      <th>50</th>\n",
       "      <th>100</th>\n",
       "      <th>258</th>\n",
       "      <th>Cluster</th>\n",
       "    </tr>\n",
       "    <tr>\n",
       "      <th>user_id</th>\n",
       "      <th></th>\n",
       "      <th></th>\n",
       "      <th></th>\n",
       "      <th></th>\n",
       "    </tr>\n",
       "  </thead>\n",
       "  <tbody>\n",
       "    <tr>\n",
       "      <th>0</th>\n",
       "      <td>5.0</td>\n",
       "      <td>-1.0</td>\n",
       "      <td>-1.0</td>\n",
       "      <td>4</td>\n",
       "    </tr>\n",
       "    <tr>\n",
       "      <th>1</th>\n",
       "      <td>5.0</td>\n",
       "      <td>5.0</td>\n",
       "      <td>5.0</td>\n",
       "      <td>0</td>\n",
       "    </tr>\n",
       "    <tr>\n",
       "      <th>2</th>\n",
       "      <td>5.0</td>\n",
       "      <td>5.0</td>\n",
       "      <td>3.0</td>\n",
       "      <td>0</td>\n",
       "    </tr>\n",
       "    <tr>\n",
       "      <th>3</th>\n",
       "      <td>-1.0</td>\n",
       "      <td>-1.0</td>\n",
       "      <td>2.0</td>\n",
       "      <td>2</td>\n",
       "    </tr>\n",
       "    <tr>\n",
       "      <th>4</th>\n",
       "      <td>5.0</td>\n",
       "      <td>-1.0</td>\n",
       "      <td>5.0</td>\n",
       "      <td>3</td>\n",
       "    </tr>\n",
       "  </tbody>\n",
       "</table>\n",
       "</div>"
      ],
      "text/plain": [
       "item_id   50  100  258  Cluster\n",
       "user_id                        \n",
       "0        5.0 -1.0 -1.0        4\n",
       "1        5.0  5.0  5.0        0\n",
       "2        5.0  5.0  3.0        0\n",
       "3       -1.0 -1.0  2.0        2\n",
       "4        5.0 -1.0  5.0        3"
      ]
     },
     "execution_count": 61,
     "metadata": {},
     "output_type": "execute_result"
    }
   ],
   "source": [
    "pivotDF.head()"
   ]
  },
  {
   "cell_type": "code",
   "execution_count": 62,
   "id": "8b528035",
   "metadata": {},
   "outputs": [],
   "source": [
    "# Let's take a look at user #1! What movie should they watch next?\n",
    "user1 = reviews[reviews['user_id'] == 1]"
   ]
  },
  {
   "cell_type": "code",
   "execution_count": 63,
   "id": "29248a62",
   "metadata": {},
   "outputs": [
    {
     "data": {
      "text/html": [
       "<div>\n",
       "<style scoped>\n",
       "    .dataframe tbody tr th:only-of-type {\n",
       "        vertical-align: middle;\n",
       "    }\n",
       "\n",
       "    .dataframe tbody tr th {\n",
       "        vertical-align: top;\n",
       "    }\n",
       "\n",
       "    .dataframe thead th {\n",
       "        text-align: right;\n",
       "    }\n",
       "</style>\n",
       "<table border=\"1\" class=\"dataframe\">\n",
       "  <thead>\n",
       "    <tr style=\"text-align: right;\">\n",
       "      <th></th>\n",
       "      <th>user_id</th>\n",
       "      <th>item_id</th>\n",
       "      <th>rating</th>\n",
       "    </tr>\n",
       "  </thead>\n",
       "  <tbody>\n",
       "    <tr>\n",
       "      <th>204</th>\n",
       "      <td>1</td>\n",
       "      <td>61</td>\n",
       "      <td>4</td>\n",
       "    </tr>\n",
       "    <tr>\n",
       "      <th>307</th>\n",
       "      <td>1</td>\n",
       "      <td>189</td>\n",
       "      <td>3</td>\n",
       "    </tr>\n",
       "    <tr>\n",
       "      <th>335</th>\n",
       "      <td>1</td>\n",
       "      <td>33</td>\n",
       "      <td>4</td>\n",
       "    </tr>\n",
       "    <tr>\n",
       "      <th>336</th>\n",
       "      <td>1</td>\n",
       "      <td>160</td>\n",
       "      <td>4</td>\n",
       "    </tr>\n",
       "    <tr>\n",
       "      <th>480</th>\n",
       "      <td>1</td>\n",
       "      <td>20</td>\n",
       "      <td>4</td>\n",
       "    </tr>\n",
       "    <tr>\n",
       "      <th>...</th>\n",
       "      <td>...</td>\n",
       "      <td>...</td>\n",
       "      <td>...</td>\n",
       "    </tr>\n",
       "    <tr>\n",
       "      <th>91778</th>\n",
       "      <td>1</td>\n",
       "      <td>28</td>\n",
       "      <td>4</td>\n",
       "    </tr>\n",
       "    <tr>\n",
       "      <th>92215</th>\n",
       "      <td>1</td>\n",
       "      <td>172</td>\n",
       "      <td>5</td>\n",
       "    </tr>\n",
       "    <tr>\n",
       "      <th>93743</th>\n",
       "      <td>1</td>\n",
       "      <td>122</td>\n",
       "      <td>3</td>\n",
       "    </tr>\n",
       "    <tr>\n",
       "      <th>96419</th>\n",
       "      <td>1</td>\n",
       "      <td>152</td>\n",
       "      <td>5</td>\n",
       "    </tr>\n",
       "    <tr>\n",
       "      <th>98787</th>\n",
       "      <td>1</td>\n",
       "      <td>94</td>\n",
       "      <td>2</td>\n",
       "    </tr>\n",
       "  </tbody>\n",
       "</table>\n",
       "<p>272 rows × 3 columns</p>\n",
       "</div>"
      ],
      "text/plain": [
       "       user_id  item_id  rating\n",
       "204          1       61       4\n",
       "307          1      189       3\n",
       "335          1       33       4\n",
       "336          1      160       4\n",
       "480          1       20       4\n",
       "...        ...      ...     ...\n",
       "91778        1       28       4\n",
       "92215        1      172       5\n",
       "93743        1      122       3\n",
       "96419        1      152       5\n",
       "98787        1       94       2\n",
       "\n",
       "[272 rows x 3 columns]"
      ]
     },
     "execution_count": 63,
     "metadata": {},
     "output_type": "execute_result"
    }
   ],
   "source": [
    "user1"
   ]
  },
  {
   "cell_type": "code",
   "execution_count": 64,
   "id": "9c402790",
   "metadata": {},
   "outputs": [],
   "source": [
    "user2 = reviews[reviews['user_id'] == 2]"
   ]
  },
  {
   "cell_type": "code",
   "execution_count": 65,
   "id": "c805aec2",
   "metadata": {},
   "outputs": [
    {
     "data": {
      "text/html": [
       "<div>\n",
       "<style scoped>\n",
       "    .dataframe tbody tr th:only-of-type {\n",
       "        vertical-align: middle;\n",
       "    }\n",
       "\n",
       "    .dataframe tbody tr th {\n",
       "        vertical-align: top;\n",
       "    }\n",
       "\n",
       "    .dataframe thead th {\n",
       "        text-align: right;\n",
       "    }\n",
       "</style>\n",
       "<table border=\"1\" class=\"dataframe\">\n",
       "  <thead>\n",
       "    <tr style=\"text-align: right;\">\n",
       "      <th></th>\n",
       "      <th>user_id</th>\n",
       "      <th>item_id</th>\n",
       "      <th>rating</th>\n",
       "    </tr>\n",
       "  </thead>\n",
       "  <tbody>\n",
       "    <tr>\n",
       "      <th>702</th>\n",
       "      <td>2</td>\n",
       "      <td>292</td>\n",
       "      <td>4</td>\n",
       "    </tr>\n",
       "    <tr>\n",
       "      <th>926</th>\n",
       "      <td>2</td>\n",
       "      <td>251</td>\n",
       "      <td>5</td>\n",
       "    </tr>\n",
       "    <tr>\n",
       "      <th>1052</th>\n",
       "      <td>2</td>\n",
       "      <td>50</td>\n",
       "      <td>5</td>\n",
       "    </tr>\n",
       "    <tr>\n",
       "      <th>3420</th>\n",
       "      <td>2</td>\n",
       "      <td>314</td>\n",
       "      <td>1</td>\n",
       "    </tr>\n",
       "    <tr>\n",
       "      <th>5056</th>\n",
       "      <td>2</td>\n",
       "      <td>297</td>\n",
       "      <td>4</td>\n",
       "    </tr>\n",
       "    <tr>\n",
       "      <th>...</th>\n",
       "      <td>...</td>\n",
       "      <td>...</td>\n",
       "      <td>...</td>\n",
       "    </tr>\n",
       "    <tr>\n",
       "      <th>77680</th>\n",
       "      <td>2</td>\n",
       "      <td>288</td>\n",
       "      <td>3</td>\n",
       "    </tr>\n",
       "    <tr>\n",
       "      <th>85357</th>\n",
       "      <td>2</td>\n",
       "      <td>286</td>\n",
       "      <td>4</td>\n",
       "    </tr>\n",
       "    <tr>\n",
       "      <th>87936</th>\n",
       "      <td>2</td>\n",
       "      <td>275</td>\n",
       "      <td>5</td>\n",
       "    </tr>\n",
       "    <tr>\n",
       "      <th>95400</th>\n",
       "      <td>2</td>\n",
       "      <td>302</td>\n",
       "      <td>5</td>\n",
       "    </tr>\n",
       "    <tr>\n",
       "      <th>97335</th>\n",
       "      <td>2</td>\n",
       "      <td>296</td>\n",
       "      <td>3</td>\n",
       "    </tr>\n",
       "  </tbody>\n",
       "</table>\n",
       "<p>62 rows × 3 columns</p>\n",
       "</div>"
      ],
      "text/plain": [
       "       user_id  item_id  rating\n",
       "702          2      292       4\n",
       "926          2      251       5\n",
       "1052         2       50       5\n",
       "3420         2      314       1\n",
       "5056         2      297       4\n",
       "...        ...      ...     ...\n",
       "77680        2      288       3\n",
       "85357        2      286       4\n",
       "87936        2      275       5\n",
       "95400        2      302       5\n",
       "97335        2      296       3\n",
       "\n",
       "[62 rows x 3 columns]"
      ]
     },
     "execution_count": 65,
     "metadata": {},
     "output_type": "execute_result"
    }
   ],
   "source": [
    "user2"
   ]
  },
  {
   "cell_type": "code",
   "execution_count": 67,
   "id": "68c2c04a",
   "metadata": {},
   "outputs": [
    {
     "data": {
      "text/html": [
       "<div>\n",
       "<style scoped>\n",
       "    .dataframe tbody tr th:only-of-type {\n",
       "        vertical-align: middle;\n",
       "    }\n",
       "\n",
       "    .dataframe tbody tr th {\n",
       "        vertical-align: top;\n",
       "    }\n",
       "\n",
       "    .dataframe thead th {\n",
       "        text-align: right;\n",
       "    }\n",
       "</style>\n",
       "<table border=\"1\" class=\"dataframe\">\n",
       "  <thead>\n",
       "    <tr style=\"text-align: right;\">\n",
       "      <th></th>\n",
       "      <th>user_id</th>\n",
       "      <th>item_id</th>\n",
       "      <th>rating</th>\n",
       "    </tr>\n",
       "  </thead>\n",
       "  <tbody>\n",
       "  </tbody>\n",
       "</table>\n",
       "</div>"
      ],
      "text/plain": [
       "Empty DataFrame\n",
       "Columns: [user_id, item_id, rating]\n",
       "Index: []"
      ]
     },
     "execution_count": 67,
     "metadata": {},
     "output_type": "execute_result"
    }
   ],
   "source": [
    "user1[user1['item_id'] == 302]"
   ]
  },
  {
   "cell_type": "code",
   "execution_count": 68,
   "id": "3189ed55",
   "metadata": {},
   "outputs": [
    {
     "data": {
      "text/html": [
       "<div>\n",
       "<style scoped>\n",
       "    .dataframe tbody tr th:only-of-type {\n",
       "        vertical-align: middle;\n",
       "    }\n",
       "\n",
       "    .dataframe tbody tr th {\n",
       "        vertical-align: top;\n",
       "    }\n",
       "\n",
       "    .dataframe thead th {\n",
       "        text-align: right;\n",
       "    }\n",
       "</style>\n",
       "<table border=\"1\" class=\"dataframe\">\n",
       "  <thead>\n",
       "    <tr style=\"text-align: right;\">\n",
       "      <th></th>\n",
       "      <th>item_id</th>\n",
       "      <th>title</th>\n",
       "    </tr>\n",
       "  </thead>\n",
       "  <tbody>\n",
       "    <tr>\n",
       "      <th>301</th>\n",
       "      <td>302</td>\n",
       "      <td>L.A. Confidential (1997)</td>\n",
       "    </tr>\n",
       "  </tbody>\n",
       "</table>\n",
       "</div>"
      ],
      "text/plain": [
       "     item_id                     title\n",
       "301      302  L.A. Confidential (1997)"
      ]
     },
     "execution_count": 68,
     "metadata": {},
     "output_type": "execute_result"
    }
   ],
   "source": [
    "movies[movies['item_id'] == 302]"
   ]
  },
  {
   "cell_type": "code",
   "execution_count": null,
   "id": "a7f4a737",
   "metadata": {},
   "outputs": [],
   "source": []
  }
 ],
 "metadata": {
  "kernelspec": {
   "display_name": "Python 3 (ipykernel)",
   "language": "python",
   "name": "python3"
  },
  "language_info": {
   "codemirror_mode": {
    "name": "ipython",
    "version": 3
   },
   "file_extension": ".py",
   "mimetype": "text/x-python",
   "name": "python",
   "nbconvert_exporter": "python",
   "pygments_lexer": "ipython3",
   "version": "3.9.13"
  }
 },
 "nbformat": 4,
 "nbformat_minor": 5
}
