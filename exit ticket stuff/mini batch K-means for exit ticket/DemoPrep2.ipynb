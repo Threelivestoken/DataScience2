{
 "cells": [
  {
   "cell_type": "code",
   "execution_count": 1,
   "id": "a36439c6",
   "metadata": {},
   "outputs": [],
   "source": [
    "import pandas as pd"
   ]
  },
  {
   "cell_type": "code",
   "execution_count": 2,
   "id": "7207abb4",
   "metadata": {},
   "outputs": [],
   "source": [
    "movies = pd.read_json(\"movies.json\")\n",
    "reviews = pd.read_json(\"reviews.json\")"
   ]
  },
  {
   "cell_type": "code",
   "execution_count": 3,
   "id": "9b19c63b",
   "metadata": {},
   "outputs": [
    {
     "data": {
      "text/html": [
       "<div>\n",
       "<style scoped>\n",
       "    .dataframe tbody tr th:only-of-type {\n",
       "        vertical-align: middle;\n",
       "    }\n",
       "\n",
       "    .dataframe tbody tr th {\n",
       "        vertical-align: top;\n",
       "    }\n",
       "\n",
       "    .dataframe thead th {\n",
       "        text-align: right;\n",
       "    }\n",
       "</style>\n",
       "<table border=\"1\" class=\"dataframe\">\n",
       "  <thead>\n",
       "    <tr style=\"text-align: right;\">\n",
       "      <th></th>\n",
       "      <th>item_id</th>\n",
       "      <th>title</th>\n",
       "    </tr>\n",
       "  </thead>\n",
       "  <tbody>\n",
       "    <tr>\n",
       "      <th>0</th>\n",
       "      <td>1</td>\n",
       "      <td>Toy Story (1995)</td>\n",
       "    </tr>\n",
       "    <tr>\n",
       "      <th>1</th>\n",
       "      <td>2</td>\n",
       "      <td>GoldenEye (1995)</td>\n",
       "    </tr>\n",
       "    <tr>\n",
       "      <th>2</th>\n",
       "      <td>3</td>\n",
       "      <td>Four Rooms (1995)</td>\n",
       "    </tr>\n",
       "    <tr>\n",
       "      <th>3</th>\n",
       "      <td>4</td>\n",
       "      <td>Get Shorty (1995)</td>\n",
       "    </tr>\n",
       "    <tr>\n",
       "      <th>4</th>\n",
       "      <td>5</td>\n",
       "      <td>Copycat (1995)</td>\n",
       "    </tr>\n",
       "  </tbody>\n",
       "</table>\n",
       "</div>"
      ],
      "text/plain": [
       "   item_id              title\n",
       "0        1   Toy Story (1995)\n",
       "1        2   GoldenEye (1995)\n",
       "2        3  Four Rooms (1995)\n",
       "3        4  Get Shorty (1995)\n",
       "4        5     Copycat (1995)"
      ]
     },
     "execution_count": 3,
     "metadata": {},
     "output_type": "execute_result"
    }
   ],
   "source": [
    "movies.head()"
   ]
  },
  {
   "cell_type": "code",
   "execution_count": 4,
   "id": "fdedf46f",
   "metadata": {},
   "outputs": [
    {
     "data": {
      "text/html": [
       "<div>\n",
       "<style scoped>\n",
       "    .dataframe tbody tr th:only-of-type {\n",
       "        vertical-align: middle;\n",
       "    }\n",
       "\n",
       "    .dataframe tbody tr th {\n",
       "        vertical-align: top;\n",
       "    }\n",
       "\n",
       "    .dataframe thead th {\n",
       "        text-align: right;\n",
       "    }\n",
       "</style>\n",
       "<table border=\"1\" class=\"dataframe\">\n",
       "  <thead>\n",
       "    <tr style=\"text-align: right;\">\n",
       "      <th></th>\n",
       "      <th>user_id</th>\n",
       "      <th>item_id</th>\n",
       "      <th>rating</th>\n",
       "      <th>timestamp</th>\n",
       "    </tr>\n",
       "  </thead>\n",
       "  <tbody>\n",
       "    <tr>\n",
       "      <th>0</th>\n",
       "      <td>0</td>\n",
       "      <td>50</td>\n",
       "      <td>5</td>\n",
       "      <td>1997-12-04 15:55:49</td>\n",
       "    </tr>\n",
       "    <tr>\n",
       "      <th>1</th>\n",
       "      <td>0</td>\n",
       "      <td>172</td>\n",
       "      <td>5</td>\n",
       "      <td>1997-12-04 15:55:49</td>\n",
       "    </tr>\n",
       "    <tr>\n",
       "      <th>2</th>\n",
       "      <td>0</td>\n",
       "      <td>133</td>\n",
       "      <td>1</td>\n",
       "      <td>1997-12-04 15:55:49</td>\n",
       "    </tr>\n",
       "    <tr>\n",
       "      <th>3</th>\n",
       "      <td>196</td>\n",
       "      <td>242</td>\n",
       "      <td>3</td>\n",
       "      <td>1997-12-04 15:55:49</td>\n",
       "    </tr>\n",
       "    <tr>\n",
       "      <th>4</th>\n",
       "      <td>186</td>\n",
       "      <td>302</td>\n",
       "      <td>3</td>\n",
       "      <td>1998-04-04 19:22:22</td>\n",
       "    </tr>\n",
       "  </tbody>\n",
       "</table>\n",
       "</div>"
      ],
      "text/plain": [
       "   user_id  item_id  rating           timestamp\n",
       "0        0       50       5 1997-12-04 15:55:49\n",
       "1        0      172       5 1997-12-04 15:55:49\n",
       "2        0      133       1 1997-12-04 15:55:49\n",
       "3      196      242       3 1997-12-04 15:55:49\n",
       "4      186      302       3 1998-04-04 19:22:22"
      ]
     },
     "execution_count": 4,
     "metadata": {},
     "output_type": "execute_result"
    }
   ],
   "source": [
    "reviews.head()"
   ]
  },
  {
   "cell_type": "code",
   "execution_count": 5,
   "id": "48eab28f",
   "metadata": {},
   "outputs": [],
   "source": [
    "reviews = reviews.drop(['timestamp'], axis=1)"
   ]
  },
  {
   "cell_type": "code",
   "execution_count": 6,
   "id": "24c71631",
   "metadata": {},
   "outputs": [],
   "source": [
    "# Wrangle plan\n",
    "# 1. Get the N movies that have the most reviews (reduces dimensionality and that's important when thinking about euclidean distance)\n",
    "# 2. Use these top movies to cluster users based on their rating similarities\n",
    "# 3. Make a recommendation based on what other users in the cluster have reviewed highly"
   ]
  },
  {
   "cell_type": "code",
   "execution_count": null,
   "id": "ebad78fd",
   "metadata": {},
   "outputs": [],
   "source": [
    "# get counts of each unique movie\n",
    "# Note this will take about 30 minutes\n",
    "counts = []\n",
    "for movie in range(1682):\n",
    "    tally = 0\n",
    "    for idx in range(len(reviews)):\n",
    "        if reviews.iloc[idx]['item_id'] == movie:\n",
    "            tally = tally + 1\n",
    "    counts.append(tally)\n",
    "    print(\"Movie \" + str(movie) + \" done!\")"
   ]
  },
  {
   "cell_type": "code",
   "execution_count": 8,
   "id": "8da1b0fb",
   "metadata": {},
   "outputs": [
    {
     "data": {
      "text/html": [
       "<div>\n",
       "<style scoped>\n",
       "    .dataframe tbody tr th:only-of-type {\n",
       "        vertical-align: middle;\n",
       "    }\n",
       "\n",
       "    .dataframe tbody tr th {\n",
       "        vertical-align: top;\n",
       "    }\n",
       "\n",
       "    .dataframe thead th {\n",
       "        text-align: right;\n",
       "    }\n",
       "</style>\n",
       "<table border=\"1\" class=\"dataframe\">\n",
       "  <thead>\n",
       "    <tr style=\"text-align: right;\">\n",
       "      <th>item_id</th>\n",
       "      <th>1</th>\n",
       "      <th>2</th>\n",
       "      <th>3</th>\n",
       "      <th>4</th>\n",
       "      <th>5</th>\n",
       "      <th>6</th>\n",
       "      <th>7</th>\n",
       "      <th>8</th>\n",
       "      <th>9</th>\n",
       "      <th>10</th>\n",
       "      <th>...</th>\n",
       "      <th>1673</th>\n",
       "      <th>1674</th>\n",
       "      <th>1675</th>\n",
       "      <th>1676</th>\n",
       "      <th>1677</th>\n",
       "      <th>1678</th>\n",
       "      <th>1679</th>\n",
       "      <th>1680</th>\n",
       "      <th>1681</th>\n",
       "      <th>1682</th>\n",
       "    </tr>\n",
       "    <tr>\n",
       "      <th>user_id</th>\n",
       "      <th></th>\n",
       "      <th></th>\n",
       "      <th></th>\n",
       "      <th></th>\n",
       "      <th></th>\n",
       "      <th></th>\n",
       "      <th></th>\n",
       "      <th></th>\n",
       "      <th></th>\n",
       "      <th></th>\n",
       "      <th></th>\n",
       "      <th></th>\n",
       "      <th></th>\n",
       "      <th></th>\n",
       "      <th></th>\n",
       "      <th></th>\n",
       "      <th></th>\n",
       "      <th></th>\n",
       "      <th></th>\n",
       "      <th></th>\n",
       "      <th></th>\n",
       "    </tr>\n",
       "  </thead>\n",
       "  <tbody>\n",
       "    <tr>\n",
       "      <th>0</th>\n",
       "      <td>NaN</td>\n",
       "      <td>NaN</td>\n",
       "      <td>NaN</td>\n",
       "      <td>NaN</td>\n",
       "      <td>NaN</td>\n",
       "      <td>NaN</td>\n",
       "      <td>NaN</td>\n",
       "      <td>NaN</td>\n",
       "      <td>NaN</td>\n",
       "      <td>NaN</td>\n",
       "      <td>...</td>\n",
       "      <td>NaN</td>\n",
       "      <td>NaN</td>\n",
       "      <td>NaN</td>\n",
       "      <td>NaN</td>\n",
       "      <td>NaN</td>\n",
       "      <td>NaN</td>\n",
       "      <td>NaN</td>\n",
       "      <td>NaN</td>\n",
       "      <td>NaN</td>\n",
       "      <td>NaN</td>\n",
       "    </tr>\n",
       "    <tr>\n",
       "      <th>1</th>\n",
       "      <td>5.0</td>\n",
       "      <td>3.0</td>\n",
       "      <td>4.0</td>\n",
       "      <td>3.0</td>\n",
       "      <td>3.0</td>\n",
       "      <td>5.0</td>\n",
       "      <td>4.0</td>\n",
       "      <td>1.0</td>\n",
       "      <td>5.0</td>\n",
       "      <td>3.0</td>\n",
       "      <td>...</td>\n",
       "      <td>NaN</td>\n",
       "      <td>NaN</td>\n",
       "      <td>NaN</td>\n",
       "      <td>NaN</td>\n",
       "      <td>NaN</td>\n",
       "      <td>NaN</td>\n",
       "      <td>NaN</td>\n",
       "      <td>NaN</td>\n",
       "      <td>NaN</td>\n",
       "      <td>NaN</td>\n",
       "    </tr>\n",
       "    <tr>\n",
       "      <th>2</th>\n",
       "      <td>4.0</td>\n",
       "      <td>NaN</td>\n",
       "      <td>NaN</td>\n",
       "      <td>NaN</td>\n",
       "      <td>NaN</td>\n",
       "      <td>NaN</td>\n",
       "      <td>NaN</td>\n",
       "      <td>NaN</td>\n",
       "      <td>NaN</td>\n",
       "      <td>2.0</td>\n",
       "      <td>...</td>\n",
       "      <td>NaN</td>\n",
       "      <td>NaN</td>\n",
       "      <td>NaN</td>\n",
       "      <td>NaN</td>\n",
       "      <td>NaN</td>\n",
       "      <td>NaN</td>\n",
       "      <td>NaN</td>\n",
       "      <td>NaN</td>\n",
       "      <td>NaN</td>\n",
       "      <td>NaN</td>\n",
       "    </tr>\n",
       "    <tr>\n",
       "      <th>3</th>\n",
       "      <td>NaN</td>\n",
       "      <td>NaN</td>\n",
       "      <td>NaN</td>\n",
       "      <td>NaN</td>\n",
       "      <td>NaN</td>\n",
       "      <td>NaN</td>\n",
       "      <td>NaN</td>\n",
       "      <td>NaN</td>\n",
       "      <td>NaN</td>\n",
       "      <td>NaN</td>\n",
       "      <td>...</td>\n",
       "      <td>NaN</td>\n",
       "      <td>NaN</td>\n",
       "      <td>NaN</td>\n",
       "      <td>NaN</td>\n",
       "      <td>NaN</td>\n",
       "      <td>NaN</td>\n",
       "      <td>NaN</td>\n",
       "      <td>NaN</td>\n",
       "      <td>NaN</td>\n",
       "      <td>NaN</td>\n",
       "    </tr>\n",
       "    <tr>\n",
       "      <th>4</th>\n",
       "      <td>NaN</td>\n",
       "      <td>NaN</td>\n",
       "      <td>NaN</td>\n",
       "      <td>NaN</td>\n",
       "      <td>NaN</td>\n",
       "      <td>NaN</td>\n",
       "      <td>NaN</td>\n",
       "      <td>NaN</td>\n",
       "      <td>NaN</td>\n",
       "      <td>NaN</td>\n",
       "      <td>...</td>\n",
       "      <td>NaN</td>\n",
       "      <td>NaN</td>\n",
       "      <td>NaN</td>\n",
       "      <td>NaN</td>\n",
       "      <td>NaN</td>\n",
       "      <td>NaN</td>\n",
       "      <td>NaN</td>\n",
       "      <td>NaN</td>\n",
       "      <td>NaN</td>\n",
       "      <td>NaN</td>\n",
       "    </tr>\n",
       "  </tbody>\n",
       "</table>\n",
       "<p>5 rows × 1682 columns</p>\n",
       "</div>"
      ],
      "text/plain": [
       "item_id  1     2     3     4     5     6     7     8     9     10    ...  \\\n",
       "user_id                                                              ...   \n",
       "0         NaN   NaN   NaN   NaN   NaN   NaN   NaN   NaN   NaN   NaN  ...   \n",
       "1         5.0   3.0   4.0   3.0   3.0   5.0   4.0   1.0   5.0   3.0  ...   \n",
       "2         4.0   NaN   NaN   NaN   NaN   NaN   NaN   NaN   NaN   2.0  ...   \n",
       "3         NaN   NaN   NaN   NaN   NaN   NaN   NaN   NaN   NaN   NaN  ...   \n",
       "4         NaN   NaN   NaN   NaN   NaN   NaN   NaN   NaN   NaN   NaN  ...   \n",
       "\n",
       "item_id  1673  1674  1675  1676  1677  1678  1679  1680  1681  1682  \n",
       "user_id                                                              \n",
       "0         NaN   NaN   NaN   NaN   NaN   NaN   NaN   NaN   NaN   NaN  \n",
       "1         NaN   NaN   NaN   NaN   NaN   NaN   NaN   NaN   NaN   NaN  \n",
       "2         NaN   NaN   NaN   NaN   NaN   NaN   NaN   NaN   NaN   NaN  \n",
       "3         NaN   NaN   NaN   NaN   NaN   NaN   NaN   NaN   NaN   NaN  \n",
       "4         NaN   NaN   NaN   NaN   NaN   NaN   NaN   NaN   NaN   NaN  \n",
       "\n",
       "[5 rows x 1682 columns]"
      ]
     },
     "execution_count": 8,
     "metadata": {},
     "output_type": "execute_result"
    }
   ],
   "source": [
    "#Let's do this instead\n",
    "pivotDF = reviews.pivot(index='user_id', columns='item_id', values='rating')\n",
    "pivotDF.head()"
   ]
  },
  {
   "cell_type": "code",
   "execution_count": 14,
   "id": "a91501db",
   "metadata": {},
   "outputs": [],
   "source": [
    "# Get the item_id with count\n",
    "mostReviewed = 3\n",
    "topN = reviews.groupby('item_id').size()"
   ]
  },
  {
   "cell_type": "code",
   "execution_count": 29,
   "id": "d0a3059f",
   "metadata": {},
   "outputs": [
    {
     "data": {
      "text/plain": [
       "item_id\n",
       "1    450\n",
       "2    131\n",
       "3     90\n",
       "4    208\n",
       "5     86\n",
       "dtype: int64"
      ]
     },
     "execution_count": 29,
     "metadata": {},
     "output_type": "execute_result"
    }
   ],
   "source": [
    "topN.head()"
   ]
  },
  {
   "cell_type": "code",
   "execution_count": null,
   "id": "353f82e9",
   "metadata": {},
   "outputs": [],
   "source": [
    "# Get a dataframe with only topN movies included\n",
    "topOnlyDF = reviews[reviews[\"item_id\"].isin(topN[\"item_id\"])]"
   ]
  },
  {
   "cell_type": "code",
   "execution_count": null,
   "id": "a757fcbd",
   "metadata": {},
   "outputs": [],
   "source": [
    "topOnlyDF.head() # Need that pivot again"
   ]
  },
  {
   "cell_type": "code",
   "execution_count": null,
   "id": "e1fa41d9",
   "metadata": {},
   "outputs": [],
   "source": [
    "topOnlyDF = topOnlyDF.pivot(index='user_id', columns='item_id', values='rating')"
   ]
  },
  {
   "cell_type": "code",
   "execution_count": null,
   "id": "dd8fee21",
   "metadata": {},
   "outputs": [],
   "source": [
    "# People who don't review anything aren't useful to us. Let's drop them.\n",
    "topOnlyDF = topOnlyDF.dropna(axis=0, how='all')"
   ]
  },
  {
   "cell_type": "code",
   "execution_count": null,
   "id": "c15adaca",
   "metadata": {},
   "outputs": [],
   "source": [
    "# The people who are left might still have NaNs. Let's fill those with a number so we can cluster!\n",
    "topOnlyDF = topOnlyDF.fillna(-1)"
   ]
  },
  {
   "cell_type": "code",
   "execution_count": null,
   "id": "54cc9bba",
   "metadata": {},
   "outputs": [],
   "source": [
    "topOnlyDF.head()"
   ]
  },
  {
   "cell_type": "code",
   "execution_count": null,
   "id": "d7005439",
   "metadata": {},
   "outputs": [],
   "source": [
    "from sklearn.cluster import AgglomerativeClustering"
   ]
  },
  {
   "cell_type": "code",
   "execution_count": null,
   "id": "b6e30348",
   "metadata": {},
   "outputs": [],
   "source": [
    "agg = AgglomerativeClustering(n_clusters=5, affinity='euclidean', linkage='ward')\n",
    "agg = agg.fit(topOnlyDF)\n",
    "agg.labels_"
   ]
  },
  {
   "cell_type": "code",
   "execution_count": null,
   "id": "83154eef",
   "metadata": {},
   "outputs": [],
   "source": [
    "from sklearn.metrics import silhouette_score"
   ]
  },
  {
   "cell_type": "code",
   "execution_count": null,
   "id": "7126b300",
   "metadata": {},
   "outputs": [],
   "source": [
    "# We want something as close to 1 as possible\n",
    "ss_avg = silhouette_score(topOnlyDF, agg.labels_)"
   ]
  },
  {
   "cell_type": "code",
   "execution_count": null,
   "id": "fd97d041",
   "metadata": {},
   "outputs": [],
   "source": [
    "ss_avg # Can we do better?"
   ]
  },
  {
   "cell_type": "code",
   "execution_count": null,
   "id": "a223a3cd",
   "metadata": {},
   "outputs": [],
   "source": [
    "scores = {}\n",
    "clusters = len(topOnlyDF)\n",
    "for i in range(2, clusters):\n",
    "    agg = AgglomerativeClustering(n_clusters=i, affinity='euclidean', linkage='ward')\n",
    "    agg = agg.fit(topOnlyDF)\n",
    "    ss_avg = silhouette_score(topOnlyDF, agg.labels_)\n",
    "    scores[i] = ss_avg"
   ]
  },
  {
   "cell_type": "code",
   "execution_count": null,
   "id": "11cc847e",
   "metadata": {},
   "outputs": [],
   "source": [
    "import seaborn as sns\n",
    "sns.scatterplot(x=scores.keys(), y=scores.values()) # Somewhere around 180"
   ]
  },
  {
   "cell_type": "code",
   "execution_count": null,
   "id": "5d4b48e1",
   "metadata": {},
   "outputs": [],
   "source": [
    "# choose a n_cluster value\n",
    "agg = AgglomerativeClustering(n_clusters=180, affinity='euclidean', linkage='ward')\n",
    "agg = agg.fit(topOnlyDF)"
   ]
  },
  {
   "cell_type": "code",
   "execution_count": null,
   "id": "b557e002",
   "metadata": {},
   "outputs": [],
   "source": [
    "topOnlyDF[\"clusters\"] = agg.labels_\n",
    "topOnlyDF.reset_index(inplace=True)\n",
    "topOnlyDF.head()"
   ]
  },
  {
   "cell_type": "code",
   "execution_count": null,
   "id": "9c1c310c",
   "metadata": {},
   "outputs": [],
   "source": [
    "# Let's look at a specific user right now\n",
    "user = 365\n",
    "topOnlyDF[topOnlyDF['user_id'] == user]"
   ]
  },
  {
   "cell_type": "code",
   "execution_count": null,
   "id": "0557ea80",
   "metadata": {},
   "outputs": [],
   "source": [
    "# Now, let's get users in same cluster\n",
    "cluster = 77\n",
    "user_ids = topOnlyDF[topOnlyDF['clusters'] == cluster]\n",
    "user_ids"
   ]
  },
  {
   "cell_type": "code",
   "execution_count": null,
   "id": "7e3024ba",
   "metadata": {},
   "outputs": [],
   "source": [
    "reviews[reviews[\"user_id\"] == 24]"
   ]
  },
  {
   "cell_type": "code",
   "execution_count": null,
   "id": "326c14ba",
   "metadata": {},
   "outputs": [],
   "source": [
    "u365 = reviews[reviews[\"user_id\"] == 365]"
   ]
  },
  {
   "cell_type": "code",
   "execution_count": null,
   "id": "cffa1dd5",
   "metadata": {},
   "outputs": [],
   "source": [
    "u365[u365['item_id'] == 64]"
   ]
  },
  {
   "cell_type": "code",
   "execution_count": null,
   "id": "d08e7f37",
   "metadata": {},
   "outputs": [],
   "source": [
    "movies[movies[\"item_id\"] == 64]"
   ]
  },
  {
   "cell_type": "code",
   "execution_count": null,
   "id": "1802f3d9",
   "metadata": {},
   "outputs": [],
   "source": []
  }
 ],
 "metadata": {
  "kernelspec": {
   "display_name": "Python 3 (ipykernel)",
   "language": "python",
   "name": "python3"
  },
  "language_info": {
   "codemirror_mode": {
    "name": "ipython",
    "version": 3
   },
   "file_extension": ".py",
   "mimetype": "text/x-python",
   "name": "python",
   "nbconvert_exporter": "python",
   "pygments_lexer": "ipython3",
   "version": "3.9.13"
  }
 },
 "nbformat": 4,
 "nbformat_minor": 5
}
